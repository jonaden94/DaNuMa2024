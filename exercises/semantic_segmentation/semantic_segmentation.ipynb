{
 "cells": [
  {
   "cell_type": "markdown",
   "metadata": {},
   "source": [
    "# Segment anything"
   ]
  },
  {
   "cell_type": "code",
   "execution_count": 96,
   "metadata": {},
   "outputs": [
    {
     "name": "stdout",
     "output_type": "stream",
     "text": [
      "--2024-02-12 19:13:26--  https://dl.fbaipublicfiles.com/segment_anything/sam_vit_h_4b8939.pth\n",
      "Auflösen des Hostnamens dl.fbaipublicfiles.com (dl.fbaipublicfiles.com)… 52.222.236.65, 52.222.236.115, 52.222.236.74, ...\n",
      "Verbindungsaufbau zu dl.fbaipublicfiles.com (dl.fbaipublicfiles.com)|52.222.236.65|:443 … verbunden.\n",
      "HTTP-Anforderung gesendet, auf Antwort wird gewartet … 200 OK\n",
      "Länge: 2564550879 (2,4G) [binary/octet-stream]\n",
      "Wird in »sam_vit_h_4b8939.pth« gespeichert.\n",
      "\n",
      "sam_vit_h_4b8939.pt 100%[===================>]   2,39G   107MB/s    in 28s     \n",
      "\n",
      "2024-02-12 19:14:12 (87,1 MB/s) - »sam_vit_h_4b8939.pth« gespeichert [2564550879/2564550879]\n",
      "\n"
     ]
    }
   ],
   "source": [
    "!wget https://dl.fbaipublicfiles.com/segment_anything/sam_vit_h_4b8939.pth"
   ]
  },
  {
   "cell_type": "code",
   "execution_count": 2,
   "metadata": {},
   "outputs": [],
   "source": [
    "import os\n",
    "from PIL import Image\n",
    "import shutil\n",
    "from tqdm import tqdm\n",
    "import numpy as np\n"
   ]
  },
  {
   "cell_type": "code",
   "execution_count": 23,
   "metadata": {},
   "outputs": [
    {
     "name": "stderr",
     "output_type": "stream",
     "text": [
      "  0%|          | 0/3334 [00:00<?, ?it/s]"
     ]
    },
    {
     "name": "stderr",
     "output_type": "stream",
     "text": [
      "100%|██████████| 3334/3334 [05:01<00:00, 11.07it/s]\n"
     ]
    }
   ],
   "source": [
    "import os\n",
    "from PIL import Image\n",
    "import shutil\n",
    "from tqdm import tqdm\n",
    "\n",
    "base_dir = '/usr/users/henrich1/pig_data/data/images/unlabeled/W_DG5_7_9_sample/W_DG9_sample'\n",
    "target_dir = '/usr/users/henrich1/pig_data/data/images/unlabeled/W_DG5_7_9_sample/W_DG9_sample_day'\n",
    "os.makedirs(target_dir, exist_ok=True)\n",
    "\n",
    "for image_name in tqdm(os.listdir(base_dir)):\n",
    "    if not image_name.endswith('.jpg'):\n",
    "        continue\n",
    "    image = Image.open(os.path.join(base_dir, image_name))\n",
    "    variance = np.array(image.convert(\"RGB\")).var(2).mean()\n",
    "    if variance > 50:\n",
    "        shutil.move(os.path.join(base_dir, image_name), os.path.join(target_dir, image_name))\n"
   ]
  },
  {
   "cell_type": "code",
   "execution_count": 20,
   "metadata": {},
   "outputs": [],
   "source": [
    "# test = Image.open('/usr/users/henrich1/pig_data/data/images/unlabeled/W_DG5_7_9_sample/W_DG5_sample/Kamera120170327-164011-1490625611_frame_1838.jpg')\n",
    "# test = Image.open('/usr/users/henrich1/pig_data/data/images/unlabeled/W_DG5_7_9_sample/W_DG5_sample/Kamera120170327-174011-1490629211_frame_7200.jpg')\n",
    "# test = Image.open('/usr/users/henrich1/pig_data/data/images/unlabeled/W_DG5_7_9_sample/W_DG5_sample/Kamera120170327-161011-1490623811_frame_2129.jpg')\n",
    "test = Image.open('/usr/users/henrich1/pig_data/data/images/unlabeled/W_DG5_7_9_sample/W_DG7_sample/Kamera120170606-151753-1496755073_frame_11043.jpg')\n",
    "test = Image.open('/usr/users/henrich1/pig_data/data/images/unlabeled/W_DG5_7_9_sample/W_DG7_sample/Kamera120170608-041755-1496888275_frame_21387.jpg')\n",
    "test = np.array(test.convert(\"RGB\")).var(2).mean()"
   ]
  },
  {
   "cell_type": "code",
   "execution_count": 21,
   "metadata": {},
   "outputs": [
    {
     "data": {
      "text/plain": [
       "0.0"
      ]
     },
     "execution_count": 21,
     "metadata": {},
     "output_type": "execute_result"
    }
   ],
   "source": [
    "test"
   ]
  },
  {
   "cell_type": "code",
   "execution_count": 15,
   "metadata": {},
   "outputs": [
    {
     "data": {
      "text/plain": [
       "array([ 90, 102,  98], dtype=uint8)"
      ]
     },
     "execution_count": 15,
     "metadata": {},
     "output_type": "execute_result"
    }
   ],
   "source": [
    "test[0, 0, :]"
   ]
  }
 ],
 "metadata": {
  "kernelspec": {
   "display_name": "exenv",
   "language": "python",
   "name": "python3"
  },
  "language_info": {
   "codemirror_mode": {
    "name": "ipython",
    "version": 3
   },
   "file_extension": ".py",
   "mimetype": "text/x-python",
   "name": "python",
   "nbconvert_exporter": "python",
   "pygments_lexer": "ipython3",
   "version": "3.10.12"
  }
 },
 "nbformat": 4,
 "nbformat_minor": 2
}
