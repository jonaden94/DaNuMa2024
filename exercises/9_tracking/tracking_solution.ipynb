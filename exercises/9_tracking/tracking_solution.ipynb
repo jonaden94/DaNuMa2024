{
 "cells": [
  {
   "cell_type": "markdown",
   "metadata": {},
   "source": [
    "# Tracking"
   ]
  },
  {
   "cell_type": "markdown",
   "metadata": {},
   "source": [
    "### Libraries and Variables"
   ]
  },
  {
   "cell_type": "code",
   "execution_count": null,
   "metadata": {},
   "outputs": [],
   "source": [
    "# general\n",
    "import os\n",
    "import random\n",
    "import mmcv\n",
    "import numpy as np\n",
    "import cv2\n",
    "from tqdm import tqdm\n",
    "import numpy as np\n",
    "\n",
    "import torch\n",
    "import matplotlib.pyplot as plt\n",
    "import ssl\n",
    "ssl._create_default_https_context = ssl._create_unverified_context\n",
    "\n",
    "# detection\n",
    "from mmdet.apis import init_detector, inference_detector\n",
    "from mmdet.utils import register_all_modules\n",
    "from mmdet.apis import init_detector, inference_detector\n",
    "\n",
    "# segmentation\n",
    "import matplotlib.pyplot as plt\n",
    "from scipy.optimize import linear_sum_assignment\n",
    "\n",
    "exercise_dir = os.path.dirname(os.path.abspath(\"__file__\"))\n",
    "danuma_dir = os.path.dirname(os.path.dirname(exercise_dir))\n",
    "raw_data_dir = os.path.join(danuma_dir, 'data/raw_data')\n",
    "output_data_dir = os.path.join(danuma_dir, 'data/output_data')\n"
   ]
  },
  {
   "cell_type": "markdown",
   "metadata": {},
   "source": [
    "### Overview"
   ]
  },
  {
   "cell_type": "markdown",
   "metadata": {},
   "source": [
    "In this notebook, you will implement a simple algorithm for multiple-object tracking to track pigs in videos. We will employ the so-called \"tracking-by-detection\" paradigm. In this paradigm, an object detector is used to generate bounding boxes for every frame. Then, some algorithm to match these bounding boxes with each other is used to obtain tracks. In this exercise, the matching rule you will implement is very simple and could be improved in many ways. However, it is still the basis of many modern mutli-object-tracking frameworks (see further reads). The further reads section provides links to papers of more elaborate trackers. These methods also take into account the motion of objects (e.g. through Kalman filter) and are built to deal with object occlusion."
   ]
  },
  {
   "cell_type": "markdown",
   "metadata": {},
   "source": [
    "### Object detector"
   ]
  },
  {
   "cell_type": "markdown",
   "metadata": {},
   "source": [
    "Just as in exercise 7, we will use a pre-trained object detector for pigs. The code is already provided below. If you want to know details about the pretrained pig detection framework, take a look at the repository at https://github.com/jonaden94/PigDetect/ and the corresponding demo notebook at https://github.com/jonaden94/PigDetect/blob/main/tools/inference/inference_demo.ipynb"
   ]
  },
  {
   "cell_type": "code",
   "execution_count": null,
   "metadata": {},
   "outputs": [],
   "source": [
    "# 1. initialize the model\n",
    "config_path = os.path.join(home_dir, 'repos/PigDetect/configs/co-detr/co_dino_swin.py')\n",
    "checkpoint_codino_path = os.path.join(raw_data_dir, '7_instance_segmentation/pretrained/codino_swin.pth')\n",
    "register_all_modules(init_default_scope=False)\n",
    "model = init_detector(config_path, checkpoint_codino_path, device='cuda:0') # cuda:0 for gpu\n",
    "\n",
    "# 2. run model inference on image\n",
    "image_path = os.path.join(raw_data_dir, '7_instance_segmentation/images/danuma_1578.jpg')\n",
    "image = mmcv.imread(image_path, channel_order='rgb')\n",
    "result = inference_detector(model, image)\n",
    "\n",
    "# # this is how you get scores and bboxes\n",
    "# scores = result.pred_instances.scores.cpu().numpy()\n",
    "# bboxes = result.pred_instances.bboxes.cpu().numpy()\n",
    "# bboxes = bboxes[scores > 0.5] # filter boxes by score"
   ]
  },
  {
   "cell_type": "markdown",
   "metadata": {},
   "source": [
    "### Definition of tracking functions"
   ]
  },
  {
   "cell_type": "markdown",
   "metadata": {},
   "source": [
    "The ``track_objects_in_video`` function given below takes as input a directory where all frames of a video are saved (\"images_dir\") and a pretrained object detection model (\"model\"). The pretrained object detection model is used to generate detections for every frame. To match the bounding boxes of two consecutive frames with each other, the function ``match_bboxes`` function is called. It calculates for every pair of bounding boxes from the two consecutive frames how much they overlap. For example, if there are M detections in the first frame and N detections in the second frame, M $\\cdot$ N overlap metrics are computed. The overlap metric that we use here is the so-called **IoU**. Your task in this exercise is to implement the function ``calculate_iou``:\n",
    "* Take a look at the iou_example.svg image in the exercise folder to understand what the IoU is.\n",
    "* Hint: Keep in mind that the minimum y-value of a box is at the top (see iou_example.svg)! This is because for images the y-coordinate zero is at the top. This is just a convention but it is also in line with our intuition about matrices (images are just matrices, right?) where we start counting the rows from the top. The rows represent the y-axis.\n",
    "\n",
    "To calculate the IoU, perform the following steps:\n",
    "1. get the minimum x/y and maximum x/y values for both boxes\n",
    "2. from these, infer a condition when the bounding boxes do not overlap at all. In this case, immediately return 0.\n",
    "3. If the bounding boxes overlap, calculate the intersection and union and return it.\n",
    "\n",
    "The other parts of the code are already complete and the tracking algorithm should work if you correctly implemented ``calculate_iou``! :) . However, you might want to take a look at the matching algorithm in the ``match_bboxes`` function to understand how the matching is done. Basically, we calculate the IoU for every pair of bounding boxes in two consecutive frames. So, if there are for example N bounding boxes in frame 1 and M bounding boxes in frame 2, we calculate an IoU matrix of size M $\\cdot$ N. Then we choose the matching that maximizes the total IoU. For this, we use the ``linear_sum_assignment`` function from scipy. The underlying algorithm is relatively complex. Google \"Hungarian algorithm\" if you want to know more!"
   ]
  },
  {
   "cell_type": "code",
   "execution_count": null,
   "metadata": {},
   "outputs": [],
   "source": [
    "def calculate_iou(bbox1, bbox2):\n",
    "    \"\"\"\n",
    "    Calculate IoU between two bounding boxes.\n",
    "    Args:\n",
    "        bbox1, bbox2: Bounding boxes [x_min, y_min, x_max, y_max]\n",
    "    Returns:\n",
    "        iou: Intersection over Union\n",
    "    \"\"\"\n",
    "    ################ YOUR CODE HERE:\n",
    "    x_min1, y_min1, x_max1, y_max1 = bbox1\n",
    "    x_min2, y_min2, x_max2, y_max2 = bbox2\n",
    "    \n",
    "    # Calculate intersection\n",
    "    x_min_inter = max(x_min1, x_min2)\n",
    "    y_min_inter = max(y_min1, y_min2)\n",
    "    x_max_inter = min(x_max1, x_max2)\n",
    "    y_max_inter = min(y_max1, y_max2)\n",
    "    \n",
    "    if x_max_inter < x_min_inter or y_max_inter < y_min_inter:\n",
    "        return 0.0\n",
    "    \n",
    "    # Intersection area\n",
    "    intersection_area = (x_max_inter - x_min_inter) * (y_max_inter - y_min_inter)\n",
    "    \n",
    "    # Areas of the bboxes\n",
    "    bbox1_area = (x_max1 - x_min1) * (y_max1 - y_min1)\n",
    "    bbox2_area = (x_max2 - x_min2) * (y_max2 - y_min2)\n",
    "    \n",
    "    # Union area\n",
    "    union_area = bbox1_area + bbox2_area - intersection_area\n",
    "    \n",
    "    # IoU\n",
    "    return intersection_area / union_area"
   ]
  },
  {
   "cell_type": "code",
   "execution_count": null,
   "metadata": {},
   "outputs": [],
   "source": [
    "def match_bboxes(bboxes_frame1, bboxes_frame2, iou_threshold):\n",
    "    \"\"\"\n",
    "    Match bounding boxes between two frames using IoU and Hungarian Algorithm.\n",
    "    Args:\n",
    "        bboxes_frame1: Bounding boxes in frame 1 (list of [x_min, y_min, x_max, y_max])\n",
    "        bboxes_frame2: Bounding boxes in frame 2 (list of [x_min, y_min, x_max, y_max])\n",
    "    Returns:\n",
    "        matches: List of tuples where each tuple is (index_in_frame1, index_in_frame2)\n",
    "    \"\"\"\n",
    "    iou_matrix = np.zeros((len(bboxes_frame1), len(bboxes_frame2)))\n",
    "\n",
    "    for i, bbox1 in enumerate(bboxes_frame1):\n",
    "        for j, bbox2 in enumerate(bboxes_frame2):\n",
    "            iou_matrix[i, j] = calculate_iou(bbox1, bbox2)\n",
    "    \n",
    "    # Perform Hungarian matching (maximize IoU by minimizing negative IoU)\n",
    "    row_ind, col_ind = linear_sum_assignment(-iou_matrix)\n",
    "    \n",
    "    # Filter matches based on IoU threshold (e.g., ignore low IoU matches)\n",
    "    matches = []\n",
    "    for r, c in zip(row_ind, col_ind):\n",
    "        if iou_matrix[r, c] > iou_threshold:  # Threshold for valid IoU match\n",
    "            matches.append((r, c))\n",
    "    \n",
    "    return matches"
   ]
  },
  {
   "cell_type": "code",
   "execution_count": null,
   "metadata": {},
   "outputs": [],
   "source": [
    "# Tracking function for all frames\n",
    "def track_objects_in_video(images_dir, model, output_track_path, iou_threshold=0.3):\n",
    "    \"\"\"\n",
    "    Perform object detection on each frame and track objects using IoU-based matching.\n",
    "    Args:\n",
    "        images_dir: Directory containing images (frames)\n",
    "        model: Initialized object detection model\n",
    "        output_track_path: Path to save the tracking result in MOT format\n",
    "        iou_threshold: IoU threshold for matching\n",
    "    \"\"\"\n",
    "    frame_files = sorted([f for f in os.listdir(images_dir) if f.endswith('.jpg')])\n",
    "    \n",
    "    tracks = []\n",
    "    next_track_id = 0\n",
    "    active_tracks = {}\n",
    "    \n",
    "    for frame_idx, frame_file in tqdm(enumerate(frame_files)):\n",
    "        # Load frame\n",
    "        frame_path = os.path.join(images_dir, frame_file)\n",
    "        frame = mmcv.imread(frame_path, channel_order='rgb')\n",
    "        \n",
    "        # Run detection\n",
    "        result = inference_detector(model, frame)\n",
    "        bboxes = result.pred_instances.bboxes.cpu().numpy()\n",
    "        scores = result.pred_instances.scores.cpu().numpy()\n",
    "        bboxes = bboxes[scores > 0.5]\n",
    "        \n",
    "        if frame_idx == 0:\n",
    "            # Initialize new tracks in the first frame\n",
    "            for bbox in bboxes:\n",
    "                tracks.append([frame_idx + 1, next_track_id, *bbox])\n",
    "                active_tracks[next_track_id] = bbox\n",
    "                next_track_id += 1\n",
    "        else:\n",
    "            # Match current frame bboxes with previous frame tracks\n",
    "            previous_bboxes = active_tracks.values()\n",
    "            matches = match_bboxes(previous_bboxes, bboxes, iou_threshold)\n",
    "            \n",
    "            # Update existing tracks with matched bboxes\n",
    "            matched_tracks = set()\n",
    "            for match in matches:\n",
    "                track_idx, bbox_idx = match\n",
    "                track_id = list(active_tracks.keys())[track_idx]\n",
    "                tracks.append([frame_idx + 1, track_id, *bboxes[bbox_idx]])\n",
    "                active_tracks[track_id] = bboxes[bbox_idx]\n",
    "                matched_tracks.add(track_id)\n",
    "\n",
    "            # Remove inactive tracks\n",
    "            inactive_tracks = set(active_tracks.keys()) - matched_tracks\n",
    "            for track_id in inactive_tracks:\n",
    "                del active_tracks[track_id]\n",
    "                \n",
    "            # Start new tracks for unmatched bboxes\n",
    "            unmatched_bboxes = set(range(len(bboxes))) - {m[1] for m in matches}\n",
    "            for bbox_idx in unmatched_bboxes:\n",
    "                tracks.append([frame_idx + 1, next_track_id, *bboxes[bbox_idx]])\n",
    "                active_tracks[next_track_id] = bboxes[bbox_idx]\n",
    "                next_track_id += 1\n",
    "            \n",
    "    # Save tracks to file\n",
    "    with open(output_track_path, 'w') as f:\n",
    "        for track in tracks:\n",
    "            f.write(','.join(map(str, track)) + '\\n')"
   ]
  },
  {
   "cell_type": "markdown",
   "metadata": {},
   "source": [
    "### Run tracking"
   ]
  },
  {
   "cell_type": "markdown",
   "metadata": {},
   "source": [
    "We can now simply apply the tracking functionality from above."
   ]
  },
  {
   "cell_type": "code",
   "execution_count": null,
   "metadata": {},
   "outputs": [],
   "source": [
    "# path to frames of the video\n",
    "images_dir = os.path.join(raw_data_dir, '9_tracking/video1/images')\n",
    "\n",
    "# path to save tracking results\n",
    "output_dir_tracking = os.path.join(output_data_dir, '9_tracking/video1')\n",
    "os.makedirs(output_dir_tracking, exist_ok=True)\n",
    "tracking_results_path = os.path.join(output_dir_tracking, 'tracking_results.txt')\n",
    "\n",
    "# call the tracking function\n",
    "track_objects_in_video(images_dir, model, tracking_results_path)"
   ]
  },
  {
   "cell_type": "markdown",
   "metadata": {},
   "source": [
    "### Visualize tracking results"
   ]
  },
  {
   "cell_type": "markdown",
   "metadata": {},
   "source": [
    "This function is used to visualize the tracks. It just plots the bounding boxes on each image and creates a video. The color of a bounding box represents the predicted id! Inspect the visualization. \n",
    "* Where do mistakes happen and why? \n",
    "* How could we improve the tracker?\n",
    "\n",
    "################### YOUR ANSWER HERE: \\\n",
    "We can see that, if the detector has problems, tracks immediately terminate since a match is not found. \\\n",
    "This could be alleviated by e.g. adding a patience where tracks are not lost immediately but rather keps im memory for a couple of frames. \\\n",
    "However, this does not alleviate the problem if objects that were not detected for a couple of frames moved or if the detector has severe problems. \\\n",
    "More recent frameworks (see furhter reads) try to mitigate the reliance on external object detectors by actually LEARNING the whole tracking process without external detectors."
   ]
  },
  {
   "cell_type": "code",
   "execution_count": null,
   "metadata": {},
   "outputs": [],
   "source": [
    "# Function to visualize tracking and save both individual frames and a video\n",
    "def visualize_mot(images_dir, tracks_file, output_dir, video_output_path, ids_to_visualize=None, bbox_linewidth=2, id_size=1, fps=10):\n",
    "    np.random.seed(2)\n",
    "    \n",
    "    # Load tracking data from file\n",
    "    tracks = {}\n",
    "    with open(tracks_file, 'r') as f:\n",
    "        for line in f:\n",
    "            data = [int(i) if i.isdigit() else float(i) for i in line.split(',')]\n",
    "            frame_id, obj_id, x_min, y_min, x_max, y_max = data # assuming the format is [x_min, y_min, x_max, y_max]\n",
    "            if frame_id not in tracks:\n",
    "                tracks[frame_id] = []\n",
    "            tracks[frame_id].append((obj_id, x_min, y_min, x_max, y_max))\n",
    "    \n",
    "    # Get the list of image files (frames)\n",
    "    frame_files = sorted([f for f in os.listdir(images_dir) if f.endswith('.jpg')])\n",
    "    \n",
    "    # Initialize output directory for frames and video\n",
    "    frames_output_dir = os.path.join(output_dir, 'frames')\n",
    "    os.makedirs(frames_output_dir, exist_ok=True)\n",
    "    \n",
    "    # Initialize the video writer\n",
    "    first_frame = cv2.imread(os.path.join(images_dir, frame_files[0]))\n",
    "    height, width, _ = first_frame.shape\n",
    "    fourcc = cv2.VideoWriter_fourcc(*'mp4v')  # Codec for .mp4\n",
    "    video_writer = cv2.VideoWriter(video_output_path, fourcc, fps, (width, height))\n",
    "    \n",
    "    # Initialize a dictionary to store bbox colors for each obj_id\n",
    "    colors = {}\n",
    "    \n",
    "    # Iterate over frames and draw bounding boxes\n",
    "    for frame_idx, frame_file in enumerate(tqdm(frame_files)):\n",
    "        frame_id = frame_idx + 1  # Assuming frame ID is based on the order of files\n",
    "        frame_path = os.path.join(images_dir, frame_file)\n",
    "        frame = cv2.imread(frame_path)\n",
    "        \n",
    "        # If the frame contains tracking data, draw the bounding boxes\n",
    "        if frame_id in tracks:\n",
    "            for obj_id, x_min, y_min, x_max, y_max in tracks[frame_id]:\n",
    "                if ids_to_visualize is not None and obj_id not in ids_to_visualize:\n",
    "                    continue\n",
    "                \n",
    "                # Assign a random color to the object if it's not already in the dictionary\n",
    "                if obj_id not in colors:\n",
    "                    colors[obj_id] = tuple(map(int, np.random.choice(range(256), size=3)))\n",
    "                \n",
    "                color = colors[obj_id]\n",
    "                \n",
    "                # Cast x_min, y_min, x_max, y_max to integers\n",
    "                x_min, y_min, x_max, y_max = int(x_min), int(y_min), int(x_max), int(y_max)\n",
    "                \n",
    "                # Draw bounding box\n",
    "                cv2.rectangle(frame, (x_min, y_min), (x_max, y_max), color, bbox_linewidth)\n",
    "                \n",
    "                # Draw object ID label\n",
    "                cv2.putText(frame, str(obj_id), (x_min, y_min - 5), cv2.FONT_HERSHEY_SIMPLEX, id_size, color, 2)\n",
    "        \n",
    "        # Save the output frame with bounding boxes\n",
    "        output_frame_path = os.path.join(frames_output_dir, frame_file)\n",
    "        cv2.imwrite(output_frame_path, frame)\n",
    "        \n",
    "        # Write the frame to the video\n",
    "        video_writer.write(frame)\n",
    "    \n",
    "    # Release the video writer\n",
    "    video_writer.release()"
   ]
  },
  {
   "cell_type": "code",
   "execution_count": null,
   "metadata": {},
   "outputs": [],
   "source": [
    "visualize_mot(\n",
    "    images_dir=images_dir, \n",
    "    tracks_file=tracking_results_path, \n",
    "    output_dir=output_dir_tracking,\n",
    "    video_output_path=os.path.join(output_dir_tracking, 'tracking_results.mp4')\n",
    ")\n",
    "# download the mp4 file to view the tracking results"
   ]
  },
  {
   "cell_type": "markdown",
   "metadata": {},
   "source": [
    "### further reads\n",
    "* ground-breaking paper that first introduced the basic tracking idea employed in this exercise: https://ieeexplore.ieee.org/stamp/stamp.jsp?arnumber=7533003\n",
    "* example of further developments of this method that builds more sophisticated matching rule: https://ieeexplore.ieee.org/stamp/stamp.jsp?arnumber=8296962\n",
    "* more recent frameworks try learning tracking (not only pretrained object detector with some association rule). Examples are: https://openaccess.thecvf.com/content/CVPR2022/papers/Meinhardt_TrackFormer_Multi-Object_Tracking_With_Transformers_CVPR_2022_paper.pdf \\\n",
    "https://arxiv.org/pdf/2105.03247 \\\n",
    "https://arxiv.org/pdf/2211.09791\n"
   ]
  }
 ],
 "metadata": {
  "kernelspec": {
   "display_name": "python danuma",
   "language": "python",
   "name": "danuma"
  },
  "language_info": {
   "codemirror_mode": {
    "name": "ipython",
    "version": 3
   },
   "file_extension": ".py",
   "mimetype": "text/x-python",
   "name": "python",
   "nbconvert_exporter": "python",
   "pygments_lexer": "ipython3",
   "version": "3.10.13"
  }
 },
 "nbformat": 4,
 "nbformat_minor": 4
}
