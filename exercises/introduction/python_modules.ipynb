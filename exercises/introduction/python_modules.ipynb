{
 "cells": [
  {
   "cell_type": "markdown",
   "metadata": {},
   "source": [
    "# Data Processing in Python "
   ]
  },
  {
   "cell_type": "code",
   "execution_count": 1,
   "metadata": {},
   "outputs": [],
   "source": [
    "import pandas as pd\n",
    "import numpy as np\n",
    "import matplotlib.pyplot as plt\n",
    "\n"
   ]
  },
  {
   "cell_type": "markdown",
   "metadata": {},
   "source": [
    "## Module Overview\n",
    "\n",
    "### Pandas\n",
    "\n",
    "- creating tabular data, aka \"DataFrames\"\n",
    "- loading data from external sources (text files, databases etc.)\n",
    "- data sorting and selection\n",
    "- creation of derived data\n",
    "- time-series functionality\n",
    "- plausibility checking and imputation\n",
    "\n",
    "### Numpy\n",
    "\n",
    "- fast array and matrix manipulation and operations\n",
    "- linear algebra\n",
    "- applying mathematical functions\n",
    "\n",
    "### Matplotlib\n",
    "\n",
    "- visualization of data and results\n",
    "- highly customizable plots"
   ]
  },
  {
   "cell_type": "markdown",
   "metadata": {},
   "source": [
    "## basic Pandas functionality "
   ]
  },
  {
   "cell_type": "code",
   "execution_count": 2,
   "metadata": {},
   "outputs": [
    {
     "name": "stdout",
     "output_type": "stream",
     "text": [
      "   id           name  age  height  score\n",
      "0   1       John Doe   28     5.9   85.3\n",
      "1   2     Jane Smith   22     5.7   92.5\n",
      "2   3    Bob Johnson   34     6.1   78.9\n",
      "3   4    Alice Brown   29     5.5   88.2\n",
      "4   5  Charlie Davis   25     6.0   91.4\n"
     ]
    }
   ],
   "source": [
    "# load a dataset from a CSV file\n",
    "data = pd.read_csv(\"../../data/example.csv\", decimal=\".\", sep=\",\", encoding=\"utf-8\")\n",
    "# show the first 5 rows\n",
    "print(data.head(5))"
   ]
  },
  {
   "cell_type": "code",
   "execution_count": 3,
   "metadata": {},
   "outputs": [
    {
     "name": "stdout",
     "output_type": "stream",
     "text": [
      "<class 'pandas.core.frame.DataFrame'>\n",
      "RangeIndex: 5 entries, 0 to 4\n",
      "Data columns (total 5 columns):\n",
      " #   Column  Non-Null Count  Dtype  \n",
      "---  ------  --------------  -----  \n",
      " 0   id      5 non-null      int64  \n",
      " 1   name    5 non-null      object \n",
      " 2   age     5 non-null      int64  \n",
      " 3   height  5 non-null      float64\n",
      " 4   score   5 non-null      float64\n",
      "dtypes: float64(2), int64(2), object(1)\n",
      "memory usage: 328.0+ bytes\n",
      "None\n",
      "             id        age    height      score\n",
      "count  5.000000   5.000000  5.000000   5.000000\n",
      "mean   3.000000  27.600000  5.840000  87.260000\n",
      "std    1.581139   4.505552  0.240832   5.459212\n",
      "min    1.000000  22.000000  5.500000  78.900000\n",
      "25%    2.000000  25.000000  5.700000  85.300000\n",
      "50%    3.000000  28.000000  5.900000  88.200000\n",
      "75%    4.000000  29.000000  6.000000  91.400000\n",
      "max    5.000000  34.000000  6.100000  92.500000\n"
     ]
    }
   ],
   "source": [
    "# get a short summary\n",
    "print(data.info(verbose=True))\n",
    "# some basic descriptive statistics\n",
    "print(data.describe())"
   ]
  },
  {
   "cell_type": "code",
   "execution_count": 4,
   "metadata": {},
   "outputs": [
    {
     "name": "stdout",
     "output_type": "stream",
     "text": [
      "0    28\n",
      "1    22\n",
      "2    34\n",
      "3    29\n",
      "4    25\n",
      "Name: age, dtype: int64\n",
      "   height  score\n",
      "0     5.9   85.3\n",
      "1     5.7   92.5\n",
      "2     6.1   78.9\n",
      "3     5.5   88.2\n",
      "4     6.0   91.4\n"
     ]
    }
   ],
   "source": [
    "# selecting subsets of data\n",
    "\n",
    "# selecting a column (returns a pd.Series object)\n",
    "age_data = data[\"age\"]\n",
    "# or \n",
    "age_data = data.age\n",
    "# or\n",
    "age_data = data.loc[:,\"age\"]  # loc selects data by [index (=row), column]\n",
    "print(age_data)\n",
    "\n",
    "# you can select multiple columns with a list of names (this returns a pd.DataFrame object)\n",
    "height_score = data[[\"height\", \"score\"]]\n",
    "print(height_score)"
   ]
  },
  {
   "cell_type": "code",
   "execution_count": 5,
   "metadata": {},
   "outputs": [
    {
     "name": "stdout",
     "output_type": "stream",
     "text": [
      "0    False\n",
      "1     True\n",
      "2    False\n",
      "3    False\n",
      "4     True\n",
      "Name: score, dtype: bool\n",
      "   id           name  age  height  score\n",
      "1   2     Jane Smith   22     5.7   92.5\n",
      "4   5  Charlie Davis   25     6.0   91.4\n",
      "   id           name  age  height  score\n",
      "4   5  Charlie Davis   25     6.0   91.4\n"
     ]
    }
   ],
   "source": [
    "# Filtering data by condition\n",
    "\n",
    "# get the people with scores >= 90\n",
    "high_scorers = data[data[\"score\"] >= 90]\n",
    "\n",
    "# the expression inside the brackets creates a boolean mask, which is used to select only the cells where the mask is \"True\"\n",
    "mask = data[\"score\"] >= 90\n",
    "print(mask)\n",
    "print(data[mask])\n",
    "\n",
    "# filtering with multiple conditions\n",
    "height_scorers = data[(data[\"score\"] >= 90) & (data[\"height\"] >= 6.0)]\n",
    "print(height_scorers)"
   ]
  },
  {
   "cell_type": "code",
   "execution_count": 6,
   "metadata": {},
   "outputs": [
    {
     "name": "stdout",
     "output_type": "stream",
     "text": [
      "0       John Doe\n",
      "1     Jane Smith\n",
      "2    Bob Johnson\n",
      "Name: name, dtype: object\n",
      "          name  age  height\n",
      "0     John Doe   28     5.9\n",
      "1   Jane Smith   22     5.7\n",
      "2  Bob Johnson   34     6.1\n"
     ]
    }
   ],
   "source": [
    "# selecting rows and columns simultaneously with .loc and .iloc\n",
    "# select data where \"id\" is either 1, 2, or 3, and the column is \"name\"\n",
    "subset = data.loc[data[\"id\"].isin([1, 2, 3]), \"name\"]\n",
    "print(subset)\n",
    "\n",
    "# select data with index from 0 to 2, and columns from 1 to 3\n",
    "subset_2 = data.iloc[0:3, 1:4]\n",
    "print(subset_2)"
   ]
  },
  {
   "cell_type": "code",
   "execution_count": 11,
   "metadata": {},
   "outputs": [
    {
     "name": "stdout",
     "output_type": "stream",
     "text": [
      "   id           name  age  height  score       pet\n",
      "0   1       John Doe   28     5.9   85.3       cat\n",
      "1   2     Jane Smith   22     5.7   92.5       dog\n",
      "2   3    Bob Johnson   34     6.1   78.9       cat\n",
      "3   4    Alice Brown   29     5.5   88.2  goldfish\n",
      "4   5  Charlie Davis   25     6.0   91.4   hamster\n",
      "            name  group\n",
      "0       John Doe      1\n",
      "1    Bob Johnson      1\n",
      "2    Alice Brown      2\n",
      "3  Charlie Davis      2\n",
      "   id           name  age  height  score       pet  group\n",
      "0   1       John Doe   28     5.9   85.3       cat    1.0\n",
      "1   2     Jane Smith   22     5.7   92.5       dog    NaN\n",
      "2   3    Bob Johnson   34     6.1   78.9       cat    1.0\n",
      "3   4    Alice Brown   29     5.5   88.2  goldfish    2.0\n",
      "4   5  Charlie Davis   25     6.0   91.4   hamster    2.0\n"
     ]
    }
   ],
   "source": [
    "# Adding new data to an existing DataFrame\n",
    "# adding a new column from a series\n",
    "pet_data = pd.Series([\"cat\", \"dog\", \"cat\", \"goldfish\", \"hamster\"])\n",
    "\n",
    "data[\"pet\"] = pet_data\n",
    "print(data)\n",
    "\n",
    "# adding data from a dictionary with merge()\n",
    "# missing values get filled with NaN (not a number)\n",
    "group_data = pd.DataFrame.from_dict({\"name\": [\"John Doe\", \"Bob Johnson\", \"Alice Brown\", \"Charlie Davis\"], \"group\": [1, 1, 2, 2]})\n",
    "print(group_data)\n",
    "merged_data = data.merge(group_data, how=\"left\")\n",
    "print(merged_data)"
   ]
  },
  {
   "cell_type": "code",
   "execution_count": 18,
   "metadata": {},
   "outputs": [
    {
     "name": "stdout",
     "output_type": "stream",
     "text": [
      "            name  score_age_ratio\n",
      "0       John Doe         3.046429\n",
      "1     Jane Smith         4.204545\n",
      "2    Bob Johnson         2.320588\n",
      "3    Alice Brown         3.041379\n",
      "4  Charlie Davis         3.656000\n",
      "0       John\n",
      "1       Jane\n",
      "2        Bob\n",
      "3      Alice\n",
      "4    Charlie\n",
      "Name: first_name, dtype: object\n",
      "0        Doe\n",
      "1      Smith\n",
      "2    Johnson\n",
      "3      Brown\n",
      "4      Davis\n",
      "Name: last_name, dtype: object\n"
     ]
    }
   ],
   "source": [
    "# creating new columns from existing ones\n",
    "\n",
    "# calculating the score to age ratio\n",
    "data[\"score_age_ratio\"] = data[\"score\"] / data[\"age\"]\n",
    "print(data[[\"name\", \"score_age_ratio\"]])\n",
    "\n",
    "# applying a function to a column\n",
    "def get_first_name(full_name):\n",
    "    return full_name.split(\" \")[0]\n",
    "\n",
    "data[\"first_name\"] = data[\"name\"].apply(get_first_name)\n",
    "print(data[\"first_name\"])\n",
    "\n",
    "# you can also pass an anonymous function. less code, but sometimes harder to read\n",
    "data[\"last_name\"] = data[\"name\"].apply(lambda x: x.split(\" \")[-1])\n",
    "print(data[\"last_name\"])"
   ]
  }
 ],
 "metadata": {
  "kernelspec": {
   "display_name": "exercises_summer_school",
   "language": "python",
   "name": "python3"
  },
  "language_info": {
   "codemirror_mode": {
    "name": "ipython",
    "version": 3
   },
   "file_extension": ".py",
   "mimetype": "text/x-python",
   "name": "python",
   "nbconvert_exporter": "python",
   "pygments_lexer": "ipython3",
   "version": "3.10.14"
  }
 },
 "nbformat": 4,
 "nbformat_minor": 2
}
