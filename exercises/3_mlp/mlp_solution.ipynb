{
 "cells": [
  {
   "cell_type": "markdown",
   "metadata": {},
   "source": [
    "# Multilayer Perceptron"
   ]
  },
  {
   "cell_type": "markdown",
   "metadata": {},
   "source": [
    "If you run this notebook in google colab, set colab to True else False"
   ]
  },
  {
   "cell_type": "code",
   "execution_count": null,
   "metadata": {},
   "outputs": [],
   "source": [
    "colab = True"
   ]
  },
  {
   "cell_type": "markdown",
   "metadata": {},
   "source": [
    "### Libraries and Variables"
   ]
  },
  {
   "cell_type": "code",
   "execution_count": null,
   "metadata": {},
   "outputs": [],
   "source": [
    "import os\n",
    "import pandas as pd\n",
    "import matplotlib.pyplot as plt\n",
    "from tqdm import tqdm\n",
    "import numpy as np\n",
    "\n",
    "import torch\n",
    "from torch.utils.data import Dataset, DataLoader\n",
    "from torch.optim import AdamW\n",
    "from torch import nn\n",
    "import torch.nn.functional as nnf\n",
    "\n",
    "if colab:\n",
    "    # define download url\n",
    "    base = 'https://data.goettingen-research-online.de/api/access/datafile/:persistentId?persistentId=doi:10.25625/9AIY3V'\n",
    "    folder = '3QVFJT'\n",
    "    download_url = os.path.join(base, folder)\n",
    "\n",
    "    # define save paths\n",
    "    save_name_zip = '3_mlp.zip'\n",
    "    raw_data_folder = 'data/raw_data'\n",
    "    save_data_folder = 'data/output_data'\n",
    "\n",
    "    # make data directories\n",
    "    !mkdir -p $raw_data_folder\n",
    "    !mkdir -p $save_data_folder\n",
    "\n",
    "    # download and unzip data\n",
    "    !wget -O $save_name_zip $download_url\n",
    "    !unzip $save_name_zip -d $raw_data_folder\n",
    "    !rm -rf $save_name_zip\n",
    "    \n",
    "    home_dir = '/content'\n",
    "    raw_data_dir = os.path.join(home_dir, 'data/raw_data')\n",
    "    output_data_dir = os.path.join(home_dir, 'data/output_data')\n",
    "else:\n",
    "    exercise_dir = os.path.dirname(os.path.abspath(\"__file__\"))\n",
    "    danuma_dir = os.path.dirname(os.path.dirname(exercise_dir))\n",
    "    raw_data_dir = os.path.join(danuma_dir, 'data/raw_data')\n",
    "    output_data_dir = os.path.join(danuma_dir, 'data/output_data')"
   ]
  },
  {
   "cell_type": "markdown",
   "metadata": {},
   "source": [
    "### Overview"
   ]
  },
  {
   "cell_type": "markdown",
   "metadata": {},
   "source": [
    "In this notebook, you will implement and train the simplest neural network architecture there is: a multilayer perceptron. You will see how it is able to solve non-linear function approximation problems. Also, you will demonstrate the advantage of validation during model training to prevent overfitting.\\\n",
    "Furthermore, the convolution layer will be introduced."
   ]
  },
  {
   "cell_type": "markdown",
   "metadata": {},
   "source": [
    "### Data"
   ]
  },
  {
   "cell_type": "markdown",
   "metadata": {},
   "source": [
    "First, we load the toy dataset we use for model training and validation:"
   ]
  },
  {
   "cell_type": "code",
   "execution_count": 2,
   "metadata": {},
   "outputs": [],
   "source": [
    "train_path = os.path.join(raw_data_dir, '3_mlp/train.csv')\n",
    "val_path = os.path.join(raw_data_dir, '3_mlp/val.csv')\n",
    "\n",
    "train_data = pd.read_csv(train_path, header=None)\n",
    "val_data = pd.read_csv(val_path, header=None)\n",
    "\n",
    "x_train = train_data.iloc[:, 0].to_numpy()\n",
    "y_train = train_data.iloc[:, 1].to_numpy()\n",
    "x_val = val_data.iloc[:, 0].to_numpy()\n",
    "y_val = val_data.iloc[:, 1].to_numpy()"
   ]
  },
  {
   "cell_type": "markdown",
   "metadata": {},
   "source": [
    "Visualize the data! (It is very unusual to have a bigger validation than training set. Don't do this in practice! :P It serves demonstration purposes here to get a smoother validation loss later)"
   ]
  },
  {
   "cell_type": "code",
   "execution_count": null,
   "metadata": {},
   "outputs": [],
   "source": [
    "######### YOUR CODE HERE:\n",
    "plt.scatter(x_train, y_train)\n",
    "plt.scatter(x_val, y_val, c='red', alpha=0.1)"
   ]
  },
  {
   "cell_type": "markdown",
   "metadata": {},
   "source": [
    "### Dataset and model"
   ]
  },
  {
   "cell_type": "markdown",
   "metadata": {},
   "source": [
    "Now define the dataset that loads the x and y values as tuples.\n",
    "* The dataset is usually the point where other data types are transformed to tensors.\n",
    "* Remember that a dataset must have a constructor as it is an object (\\_\\_init\\_\\_) as well as a \\_\\_len\\_\\_ and \\_\\_getitem\\_\\_ method."
   ]
  },
  {
   "cell_type": "code",
   "execution_count": 4,
   "metadata": {},
   "outputs": [],
   "source": [
    "####################### dataset\n",
    "class MLPDataset(Dataset):\n",
    "    ######### YOUR CODE HERE:\n",
    "    def __init__(self, x, y):\n",
    "        self.x = torch.from_numpy(x)\n",
    "        self.y = torch.from_numpy(y)\n",
    "\n",
    "    def __len__(self):\n",
    "        return len(self.x)\n",
    "    \n",
    "    def __getitem__(self, index):\n",
    "        return self.x[index], self.y[index]"
   ]
  },
  {
   "cell_type": "markdown",
   "metadata": {},
   "source": [
    "Now define the MLP. \n",
    "* Remember that a model must have a constructor as it is an object (\\_\\_init\\_\\_) as well as a forward method that calculates the model output.\n",
    "* The layer sizes should be [1, 32, 64, 128, 256, 128, 64, 32, 1]. \n",
    "* The 1 at the beginning and end denote the input and output size of the model, which is one-dimensional in our case. \n",
    "* The numbers in-between denote the hidden layer sizes. So the network has 7 hidden layers.\n",
    "* Bonus: If you want to define the network more elegantly, you can also pass the layer sizes to the constructor and define the network dynamically based on what layer sizes you provide as an argument to the network. You can make use of a loop together with a list and ``nn.Sequential`` to define the layers this way."
   ]
  },
  {
   "cell_type": "code",
   "execution_count": 5,
   "metadata": {},
   "outputs": [],
   "source": [
    "####################### model\n",
    "\n",
    "########### elegant solution\n",
    "class MLP(nn.Module):\n",
    "    ######### YOUR CODE HERE:\n",
    "    def __init__(self, layer_sizes):\n",
    "        super().__init__()\n",
    "\n",
    "        modules = []\n",
    "        for i in range(len(layer_sizes)-1):\n",
    "            modules.append(nn.Linear(layer_sizes[i], layer_sizes[i+1]))\n",
    "\n",
    "            if not i == len(layer_sizes)-2:\n",
    "                modules.append(nn.ReLU())\n",
    "\n",
    "        self.layers = nn.Sequential(*modules)\n",
    "\n",
    "\n",
    "    def forward(self, x):\n",
    "        return self.layers(x)\n",
    "    \n",
    "########### straight-forward solution\n",
    "# class MLP(nn.Module):\n",
    "#     def __init__(self):\n",
    "#         super().__init__()\n",
    "#         self.linear1 = nn.Linear(1, 32)\n",
    "#         self.linear2 = nn.Linear(32, 64)\n",
    "#         self.linear3 = nn.Linear(64, 128)\n",
    "#         self.linear4 = nn.Linear(128, 256)\n",
    "#         self.linear5 = nn.Linear(256, 128)\n",
    "#         self.linear6 = nn.Linear(128, 64)\n",
    "#         self.linear7 = nn.Linear(64, 32)\n",
    "#         self.linear8 = nn.Linear(32, 1)\n",
    "\n",
    "#         self.relu = nn.ReLU()\n",
    "\n",
    "\n",
    "#     def forward(self, x):\n",
    "#         x = self.linear1(x)\n",
    "#         x = self.relu(x)\n",
    "#         x = self.linear2(x)\n",
    "#         x = self.relu(x)\n",
    "#         x = self.linear3(x)\n",
    "#         x = self.relu(x)\n",
    "#         x = self.linear4(x)\n",
    "#         x = self.relu(x)\n",
    "#         x = self.linear5(x)\n",
    "#         x = self.relu(x)\n",
    "#         x = self.linear6(x)\n",
    "#         x = self.relu(x)\n",
    "#         x = self.linear7(x)\n",
    "#         x = self.relu(x)\n",
    "#         x = self.linear8(x)\n",
    "#         return x"
   ]
  },
  {
   "cell_type": "markdown",
   "metadata": {},
   "source": [
    "### Training loop"
   ]
  },
  {
   "cell_type": "markdown",
   "metadata": {},
   "source": [
    "Implement a simple training loop without validation. \n",
    "* Use the mean squared error as a loss function (mse_loss) and AdamW as the optimizer. \n",
    "* Store the average loss in every epoch in a list so that you can later plot it."
   ]
  },
  {
   "cell_type": "code",
   "execution_count": null,
   "metadata": {},
   "outputs": [],
   "source": [
    "####################### Training loop without validation\n",
    "device = torch.device('cuda' if torch.cuda.is_available() else 'cpu')\n",
    "print(f\"The model is running on {device}.\")\n",
    "\n",
    "# training parameters\n",
    "epochs = 4000\n",
    "batch_size = 32\n",
    "lr = 0.001\n",
    "\n",
    "# instantiate dataset and dataloader\n",
    "######### YOUR CODE HERE:\n",
    "trainset = MLPDataset(x_train, y_train)\n",
    "trainloader = DataLoader(trainset, batch_size=batch_size, shuffle=True)\n",
    "\n",
    "# instantiate model and optimizer\n",
    "######### YOUR CODE HERE:\n",
    "layer_sizes = [1, 32, 64, 128, 256, 128, 64, 32, 1]\n",
    "model = MLP(layer_sizes=layer_sizes).to(device)\n",
    "optimizer = AdamW(model.parameters(), lr=lr)\n",
    "\n",
    "# training loop\n",
    "all_train_losses = []\n",
    "for epoch in tqdm(range(epochs)):\n",
    "    ######### YOUR CODE HERE:\n",
    "    model.train()\n",
    "    train_losses = []\n",
    "    for x_batch, y_batch in trainloader:\n",
    "        x_batch = x_batch[:, None].float().to(device)\n",
    "        y_batch = y_batch[:, None].float().to(device)\n",
    "        y_pred = model(x_batch)\n",
    "\n",
    "        optimizer.zero_grad()\n",
    "        loss = nnf.mse_loss(y_pred, y_batch)\n",
    "        loss.backward()\n",
    "        optimizer.step()\n",
    "        train_losses.append(loss.item())\n",
    "    \n",
    "    train_loss_epoch = sum(train_losses) / len(train_losses)\n",
    "    all_train_losses.append(train_loss_epoch)"
   ]
  },
  {
   "cell_type": "markdown",
   "metadata": {},
   "source": [
    "Now plot the training losses"
   ]
  },
  {
   "cell_type": "code",
   "execution_count": null,
   "metadata": {},
   "outputs": [],
   "source": [
    "######### YOUR CODE HERE:\n",
    "plt.plot(np.arange(1, epochs+1, 1), all_train_losses, label='training loss')\n",
    "plt.xlabel('Epochs')\n",
    "plt.ylabel('Loss')\n",
    "plt.legend()\n",
    "plt.show()"
   ]
  },
  {
   "cell_type": "markdown",
   "metadata": {},
   "source": [
    "Now plot the data together with the predictions \n",
    "* Hint: you can use the torch.linspace function to create a sequence of x values for which to generate model predictions for plotting.\n",
    "* What do you observe? Is the model you obtained in the last epoch a good approximation for the underlying function?"
   ]
  },
  {
   "cell_type": "code",
   "execution_count": null,
   "metadata": {},
   "outputs": [],
   "source": [
    "######### YOUR CODE HERE:\n",
    "plt.scatter(x_train, y_train, c='green')\n",
    "plt.scatter(x_val, y_val, c='blue', alpha=0.1)\n",
    "\n",
    "min_x = np.min(x_train)\n",
    "max_x = np.max(x_train)\n",
    "x_seq = torch.linspace(min_x, max_x, 1000)[:, None].to(device)\n",
    "model.eval()\n",
    "with torch.no_grad():\n",
    "    y_seq = model(x_seq)\n",
    "plt.plot(x_seq.cpu(), y_seq.cpu(), c='r')\n",
    "\n",
    "# The model overfits heavily to the training data. The predicted function is not a good approximation of the general underlying function."
   ]
  },
  {
   "cell_type": "markdown",
   "metadata": {},
   "source": [
    "### Training loop with validation"
   ]
  },
  {
   "cell_type": "markdown",
   "metadata": {},
   "source": [
    "To prevent overfitting, it is often useful to also calculate the loss on a held out validation set that is not used during training from time to time. Your task is to implement this in the training loop.\n",
    "* For clearer code, implement the training of one epoch and the validation in separate functions\n",
    "* Implement a logic that saves the parameters of the model (``torch.save(model.state_dict(), save_path)``) whenever the validation loss decreases. This way you can later use the model with the best validation loss.\n",
    "* This time, plot both the training and validation loss curve. What do you observe?\n",
    "* Take the model with the best validation loss to make a model prediction. You can load saved parameters to a model via model.load_state_dict(``torch.load(save_path)``). How does the prediction look compared to the model obtained without validation?"
   ]
  },
  {
   "cell_type": "code",
   "execution_count": 9,
   "metadata": {},
   "outputs": [],
   "source": [
    "def train_one_epoch(model, trainloader, optimizer, device):\n",
    "    ######### YOUR CODE HERE:\n",
    "    model.train()\n",
    "    total_loss = 0\n",
    "    for x_batch, y_batch in trainloader:\n",
    "        x_batch = x_batch[:, None].float().to(device)\n",
    "        y_batch = y_batch[:, None].float().to(device)\n",
    "        y_pred = model(x_batch)\n",
    "\n",
    "        optimizer.zero_grad()\n",
    "        loss = nnf.mse_loss(y_pred, y_batch)\n",
    "        loss.backward()\n",
    "        optimizer.step()\n",
    "        total_loss += loss.item()\n",
    "    return total_loss / len(trainloader)\n",
    "\n",
    "def validate(model, valloader, device):\n",
    "    ######### YOUR CODE HERE:\n",
    "    model.eval()\n",
    "    total_loss = 0\n",
    "    with torch.no_grad():\n",
    "        for x_batch, y_batch in valloader:\n",
    "            x_batch = x_batch[:, None].float().to(device)\n",
    "            y_batch = y_batch[:, None].float().to(device)\n",
    "            y_pred = model(x_batch)\n",
    "            loss = nnf.mse_loss(y_pred, y_batch)\n",
    "            total_loss += loss.item()\n",
    "    return total_loss / len(valloader)"
   ]
  },
  {
   "cell_type": "code",
   "execution_count": null,
   "metadata": {},
   "outputs": [],
   "source": [
    "####################### Training loop with modular definition of training and validation\n",
    "device = torch.device('cuda' if torch.cuda.is_available() else 'cpu')\n",
    "print(f\"The model is running on {device}.\")\n",
    "\n",
    "# training parameters\n",
    "epochs = 4000\n",
    "batch_size = 32\n",
    "lr = 0.001\n",
    "val_interval = 1\n",
    "\n",
    "# save best model state dict\n",
    "save_dir_state_dict = os.path.join(output_data_dir, '3_mlp')\n",
    "os.makedirs(save_dir_state_dict, exist_ok=True)\n",
    "save_path_state_dict = os.path.join(save_dir_state_dict, 'best.pth')\n",
    "\n",
    "# instantiate dataset and dataloader (train and val this time!)\n",
    "######### YOUR CODE HERE:\n",
    "trainset = MLPDataset(x_train, y_train)\n",
    "valset = MLPDataset(x_val, y_val)\n",
    "trainloader = DataLoader(trainset, batch_size=batch_size, shuffle=True)\n",
    "valloader = DataLoader(valset, batch_size=batch_size, shuffle=False)\n",
    "\n",
    "# instantiate model and optimizer\n",
    "######### YOUR CODE HERE:\n",
    "layer_sizes = [1, 32, 64, 128, 256, 128, 64, 32, 1]\n",
    "model = MLP(layer_sizes=layer_sizes).to(device)\n",
    "optimizer = AdamW(model.parameters(), lr=lr)\n",
    "\n",
    "# training loop\n",
    "all_train_losses = []\n",
    "all_val_losses = []\n",
    "min_val_loss = float('inf')\n",
    "\n",
    "for epoch in tqdm(range(epochs)):\n",
    "    train_loss = train_one_epoch(model, trainloader, optimizer, device)\n",
    "    all_train_losses.append(train_loss)\n",
    "\n",
    "    if epoch % val_interval == 0:\n",
    "        val_loss = validate(model, valloader, device)\n",
    "        all_val_losses.append(val_loss)\n",
    "\n",
    "        ######### YOUR CODE HERE:\n",
    "        # Implement a logic to save the model state dict if the validation loss has decreased\n",
    "        if val_loss < min_val_loss:\n",
    "            torch.save(model.state_dict(), save_path_state_dict)\n",
    "            min_val_loss = val_loss"
   ]
  },
  {
   "cell_type": "code",
   "execution_count": null,
   "metadata": {},
   "outputs": [],
   "source": [
    "####################### plot training and validation losses.\n",
    "######### YOUR CODE HERE:\n",
    "plt.plot(np.linspace(1, epochs, epochs), all_train_losses, c='blue', label='Training Loss')\n",
    "plt.plot(np.linspace(1, epochs, epochs), all_val_losses, c='red', label='Validation Loss')\n",
    "\n",
    "# Mark the minimum validation loss\n",
    "min_val_index = np.argmin(all_val_losses)\n",
    "plt.plot(min_val_index+1, all_val_losses[min_val_index], 'kx', label='Min Validation Loss')\n",
    "\n",
    "# Adding labels and legend\n",
    "plt.xlabel('Epochs')\n",
    "plt.ylabel('Loss')\n",
    "plt.legend()\n",
    "plt.show()\n",
    "\n",
    "# The training and validation loss diverge at some point. The model is overfitting to the training data."
   ]
  },
  {
   "cell_type": "code",
   "execution_count": null,
   "metadata": {},
   "outputs": [],
   "source": [
    "####################### plot train and val data together with the model predictions from the model with the best validation loss\n",
    "######### YOUR CODE HERE:\n",
    "plt.scatter(x_train, y_train, c='green')\n",
    "plt.scatter(x_val, y_val, c='blue', alpha=0.1)\n",
    "\n",
    "min_x = np.min(x_train)\n",
    "max_x = np.max(x_train)\n",
    "x_seq = torch.linspace(min_x, max_x, 1000)[:, None].to(device)\n",
    "model.eval()\n",
    "model.load_state_dict(torch.load(save_path_state_dict))\n",
    "with torch.no_grad():\n",
    "    y_seq = model(x_seq)\n",
    "plt.plot(x_seq.cpu(), y_seq.cpu(), c='r')"
   ]
  },
  {
   "cell_type": "markdown",
   "metadata": {},
   "source": [
    "# Introduction of the convolution layer"
   ]
  },
  {
   "cell_type": "markdown",
   "metadata": {},
   "source": [
    "Let's take a look at a more complex model component, the so-called convolution layer. \\\n",
    "The convolution layer is an essential module when processing images with neural networks. \\\n",
    "Once again we set the bias to zero for simplicity and set all parameter values of the layer to 1. \\\n",
    "The convolution layer takes three arguments: in_channels, out_channels and kernel_size:"
   ]
  },
  {
   "cell_type": "code",
   "execution_count": null,
   "metadata": {},
   "outputs": [],
   "source": [
    "conv_layer = nn.Conv2d(in_channels=8, out_channels=8, kernel_size=3, bias=False)\n",
    "torch.nn.init.constant_(conv_layer.weight, 1.0)\n",
    "print(conv_layer.weight.shape)"
   ]
  },
  {
   "cell_type": "markdown",
   "metadata": {},
   "source": [
    "The parameters of the convolution layer will have a shape of out_channels x in_channels x kernel_size x kernel_size (in this case 8x8x3x3). \\\n",
    "However, it is easier to think of these parameters as 8 separate \"kernels\" which each have a size of 8x3x3. \\\n",
    "When you apply the convolution layer on an input, these kernels will \"slide\" over the input and perform pairwise multiplication with the repsective part of the input. \\\n",
    "Since we initialized the weights of the kernel with all ones, the result will be the sum of the values at the respective part of the input. \\\n",
    "Also notice that the input size shrinks from 7 to 5 since no padding applied automatically. This would have to be specified as a separate argument when initializing the conv_layer. \\\n",
    "A really nice animated example of a convolution layer with the same input/output channels and kernel size can be found here: https://animatedai.github.io/"
   ]
  },
  {
   "cell_type": "code",
   "execution_count": null,
   "metadata": {},
   "outputs": [],
   "source": [
    "input = torch.ones(8, 7, 7)\n",
    "output = conv_layer(input)\n",
    "print(f'Shape of the output: {output.shape}')\n",
    "print(f'As expected, the output values are just the sums of the values of the respective part of the input: \\n{output}')"
   ]
  },
  {
   "cell_type": "markdown",
   "metadata": {},
   "source": [
    "Bonus: Feel free to explore the documentation of the conv module or build your own mini convnet! Is there an argument that prevents the shrinking of the input size?\n"
   ]
  }
 ],
 "metadata": {
  "kernelspec": {
   "display_name": "exenv",
   "language": "python",
   "name": "python3"
  },
  "language_info": {
   "codemirror_mode": {
    "name": "ipython",
    "version": 3
   },
   "file_extension": ".py",
   "mimetype": "text/x-python",
   "name": "python",
   "nbconvert_exporter": "python",
   "pygments_lexer": "ipython3",
   "version": "3.10.13"
  }
 },
 "nbformat": 4,
 "nbformat_minor": 2
}
