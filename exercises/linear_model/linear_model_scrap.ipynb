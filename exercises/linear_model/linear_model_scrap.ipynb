{
 "cells": [
  {
   "cell_type": "code",
   "execution_count": 1,
   "metadata": {},
   "outputs": [],
   "source": [
    "# necessary imports\n",
    "import torch\n",
    "import matplotlib.pyplot as plt\n",
    "\n",
    "# generate toy data according to simple linear model\n",
    "N = 50\n",
    "torch.manual_seed(3)\n",
    "x = torch.linspace(0, 10, N)\n",
    "y = x * 5 + torch.randn(N) * 10"
   ]
  },
  {
   "cell_type": "code",
   "execution_count": 2,
   "metadata": {},
   "outputs": [],
   "source": [
    "# # Create a scatter plot\n",
    "# fig, ax = plt.subplots()\n",
    "# ax.scatter(x, y)\n",
    "\n",
    "# # # Set the aspect ratio as specified\n",
    "# # # 'equal' means same scaling from data to plot units for x and y\n",
    "# ax.set_aspect(0.1)  # x:y = 1.5:1\n",
    "# ax.set_xlabel('x')\n",
    "# ax.set_ylabel('y')\n",
    "# ax.spines['top'].set_visible(False)\n",
    "# ax.spines['right'].set_visible(False)"
   ]
  },
  {
   "cell_type": "code",
   "execution_count": 3,
   "metadata": {},
   "outputs": [],
   "source": [
    "# necessary imports\n",
    "from torch.utils.data import DataLoader, Dataset\n",
    "\n",
    "# define torch dataset\n",
    "class LinearDataset(Dataset):\n",
    "    def __init__(self, x, y):\n",
    "        self.x = x\n",
    "        self.y = y\n",
    "\n",
    "    # torch dataset must have __getitem__ method!\n",
    "    def __getitem__(self, index):\n",
    "        return self.x[index], self.y[index]\n",
    "\n",
    "    # torch dataset must have __len__ method!\n",
    "    def __len__(self):\n",
    "        return len(self.x)\n",
    "\n",
    "# define dataloader\n",
    "dataset = LinearDataset(x, y)\n",
    "dataloader = DataLoader(dataset, batch_size=8)"
   ]
  },
  {
   "cell_type": "code",
   "execution_count": 4,
   "metadata": {},
   "outputs": [],
   "source": [
    "# necessary imports\n",
    "from torch import nn\n",
    "from torch.optim import AdamW\n",
    "\n",
    "# define model\n",
    "class LinearModel(nn.Module):\n",
    "    # initialize model parameters\n",
    "    def __init__(self):\n",
    "        super().__init__()\n",
    "        self.linear = nn.Linear(1, 1)\n",
    "\n",
    "    # model must have forward method!\n",
    "    def forward(self, x):\n",
    "        x = self.linear(x)\n",
    "        return x\n",
    "\n",
    "# instantiate model\n",
    "model = LinearModel()\n",
    "\n",
    "# define loss function\n",
    "loss_fn = nn.MSELoss()\n",
    "\n",
    "# instantiate optimizer with model parameters\n",
    "optimizer = AdamW(model.parameters(), lr=0.01)"
   ]
  },
  {
   "cell_type": "code",
   "execution_count": 5,
   "metadata": {},
   "outputs": [],
   "source": [
    "# training loop\n",
    "epochs = 1000\n",
    "\n",
    "for epoch in range(epochs):\n",
    "    for x, y in dataloader:\n",
    "        # add batch dimension\n",
    "        x = x.unsqueeze(1)\n",
    "        y = y.unsqueeze(1)\n",
    "\n",
    "        # reset optimizer\n",
    "        optimizer.zero_grad()\n",
    "\n",
    "        # forward pass\n",
    "        y_pred = model(x)\n",
    "\n",
    "        # calculate loss and backward pass\n",
    "        loss = loss_fn(y_pred, y)\n",
    "        loss.backward()\n",
    "\n",
    "        # update model parameters\n",
    "        optimizer.step()"
   ]
  },
  {
   "cell_type": "code",
   "execution_count": 6,
   "metadata": {},
   "outputs": [],
   "source": [
    "N = 50\n",
    "torch.manual_seed(3)\n",
    "x = torch.linspace(0, 10, N)\n",
    "y = x * 5 + torch.randn(N) * 10"
   ]
  },
  {
   "cell_type": "code",
   "execution_count": 7,
   "metadata": {},
   "outputs": [],
   "source": [
    "y_pred = model(x.unsqueeze(1)).detach()"
   ]
  },
  {
   "cell_type": "code",
   "execution_count": 8,
   "metadata": {},
   "outputs": [
    {
     "data": {
      "image/png": "[encoded data removed]",
      "text/plain": [
       "<Figure size 640x480 with 1 Axes>"
      ]
     },
     "metadata": {},
     "output_type": "display_data"
    }
   ],
   "source": [
    "import matplotlib.pyplot as plt\n",
    "\n",
    "# Create a scatter plot\n",
    "fig, ax = plt.subplots()\n",
    "ax.scatter(x, y)  # Optional: label for scatter points\n",
    "\n",
    "# Set the aspect ratio as specified\n",
    "ax.set_aspect(0.1)  # x:y ratio\n",
    "ax.set_xlabel('x')\n",
    "ax.set_ylabel('y')\n",
    "ax.spines['top'].set_visible(False)\n",
    "ax.spines['right'].set_visible(False)\n",
    "\n",
    "\n",
    "# Plot the prediction line and add a label\n",
    "ax.plot(x, y_pred, c='r', label='Prediction')\n",
    "\n",
    "# Add the legend\n",
    "ax.legend()\n",
    "\n",
    "# Display the plot\n",
    "plt.show()\n"
   ]
  },
  {
   "cell_type": "code",
   "execution_count": 12,
   "metadata": {},
   "outputs": [
    {
     "data": {
      "text/plain": [
       "Parameter containing:\n",
       "tensor([[5.4170]], requires_grad=True)"
      ]
     },
     "execution_count": 12,
     "metadata": {},
     "output_type": "execute_result"
    }
   ],
   "source": [
    "next(iter(model.parameters()))"
   ]
  }
 ],
 "metadata": {
  "kernelspec": {
   "display_name": "exenv",
   "language": "python",
   "name": "python3"
  },
  "language_info": {
   "codemirror_mode": {
    "name": "ipython",
    "version": 3
   },
   "file_extension": ".py",
   "mimetype": "text/x-python",
   "name": "python",
   "nbconvert_exporter": "python",
   "pygments_lexer": "ipython3",
   "version": "3.10.12"
  }
 },
 "nbformat": 4,
 "nbformat_minor": 2
}
