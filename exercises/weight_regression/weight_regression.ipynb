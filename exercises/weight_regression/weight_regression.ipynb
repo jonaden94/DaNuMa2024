{
 "cells": [
  {
   "cell_type": "code",
   "execution_count": 1,
   "metadata": {},
   "outputs": [],
   "source": [
    "import os\n",
    "import os.path as osp\n",
    "import pandas as pd\n",
    "import random\n",
    "from PIL import Image\n",
    "import torchvision.transforms as transforms\n",
    "import numpy as np\n",
    "\n",
    "import torch\n",
    "from torch.utils.data import Dataset\n",
    "from torch.utils.data import DataLoader\n",
    "from torch import optim\n",
    "from torch import nn\n",
    "import torch.nn.functional as F\n",
    "from tqdm import tqdm\n",
    "from torchinfo import summary"
   ]
  },
  {
   "cell_type": "code",
   "execution_count": 2,
   "metadata": {},
   "outputs": [],
   "source": [
    "data_dir = '/usr/users/agecker/datasets/pig_data_jonathan/weight_data'\n",
    "# color_dir = osp.join(data_dir, 'color')\n",
    "depth_dir = osp.join(data_dir, 'depth')\n",
    "weights_train_df_path = osp.join(data_dir, 'weights_train.csv')\n",
    "weights_val_df_path = osp.join(data_dir, 'weights_val.csv')"
   ]
  },
  {
   "cell_type": "code",
   "execution_count": 3,
   "metadata": {},
   "outputs": [],
   "source": [
    "class WeightDataset(Dataset):\n",
    "    def __init__(self, weights_df_path, images_base_dir, image_type):\n",
    "        self.weights_df = pd.read_csv(weights_df_path)\n",
    "        self.images_base_dir = images_base_dir\n",
    "        self.image_type = image_type\n",
    "\n",
    "    def __getitem__(self, i):\n",
    "        # select row from dataframe and get corresponding group, weighting number, transponder number and weight\n",
    "        info = self.weights_df.loc[i, ['group', 'weighting', 'transponder', 'weight']]\n",
    "        transponder = info['transponder']\n",
    "        weighting = info['weighting']\n",
    "        group = info['group']\n",
    "        weight = info['weight']\n",
    "        weight = torch.tensor(weight).float()\n",
    "\n",
    "        # load one random image corresponding to selected row\n",
    "        images_folder = f'Gr_{group}_WG_{weighting}_{transponder}_{self.image_type}'\n",
    "        images_dir = osp.join(self.images_base_dir, images_folder)\n",
    "        image_name = random.choice(os.listdir(images_dir))\n",
    "        image_path = osp.join(images_dir, image_name)\n",
    "        image = Image.open(image_path)\n",
    "\n",
    "        # transform and return image\n",
    "        image = self.transform(image)\n",
    "        return image, weight\n",
    "\n",
    "    def __len__(self):\n",
    "        return len(self.weights_df)\n",
    "\n",
    "    def transform(self, image):\n",
    "        transform = transforms.Compose([\n",
    "                                transforms.RandomHorizontalFlip(p=0.5),\n",
    "                                transforms.RandomVerticalFlip(p=0.5),\n",
    "                                transforms.ToTensor(),\n",
    "                                transforms.Normalize(mean=[0.485, 0.456, 0.406],\n",
    "                                                    std=[0.229, 0.224, 0.225])\n",
    "                                ])\n",
    "        image = transform(image)\n",
    "        return image\n"
   ]
  },
  {
   "cell_type": "code",
   "execution_count": 4,
   "metadata": {},
   "outputs": [],
   "source": [
    "def back_to_original(image):\n",
    "    image = image * torch.tensor([0.229, 0.224, 0.225])[:, None, None]\n",
    "    image = image + torch.tensor([0.485, 0.456, 0.406])[:, None, None]\n",
    "    image = image * 255\n",
    "    image = image.numpy()\n",
    "    image = image.astype('uint8')\n",
    "    image = np.transpose(image, [1, 2, 0])\n",
    "    return image\n",
    "    "
   ]
  },
  {
   "cell_type": "code",
   "execution_count": 5,
   "metadata": {},
   "outputs": [],
   "source": [
    "trainset = WeightDataset(weights_train_df_path, depth_dir, 'depth')\n",
    "valset = WeightDataset(weights_val_df_path, depth_dir, 'depth')\n",
    "trainloader = DataLoader(trainset, batch_size=16)\n",
    "valloader = DataLoader(valset, batch_size=16)"
   ]
  },
  {
   "cell_type": "code",
   "execution_count": 29,
   "metadata": {},
   "outputs": [
    {
     "name": "stderr",
     "output_type": "stream",
     "text": [
      "/usr/users/henrich1/mambaforge/envs/exenv/lib/python3.10/site-packages/torchvision/models/_utils.py:208: UserWarning: The parameter 'pretrained' is deprecated since 0.13 and will be removed in 0.15, please use 'weights' instead.\n",
      "  warnings.warn(\n",
      "/usr/users/henrich1/mambaforge/envs/exenv/lib/python3.10/site-packages/torchvision/models/_utils.py:223: UserWarning: Arguments other than a weight enum or `None` for 'weights' are deprecated since 0.13 and will be removed in 0.15. The current behavior is equivalent to passing `weights=ResNet34_Weights.IMAGENET1K_V1`. You can also use `weights=ResNet34_Weights.DEFAULT` to get the most up-to-date weights.\n",
      "  warnings.warn(msg)\n"
     ]
    }
   ],
   "source": [
    "import torchvision.models as models\n",
    "\n",
    "\n",
    "resnet34 = models.resnet34(pretrained=True)\n"
   ]
  },
  {
   "cell_type": "code",
   "execution_count": 30,
   "metadata": {},
   "outputs": [
    {
     "data": {
      "text/plain": [
       "==========================================================================================\n",
       "Layer (type (var_name))                  Output Shape              Param #\n",
       "==========================================================================================\n",
       "ResNet (ResNet)                          [1, 1000]                 --\n",
       "├─Conv2d (conv1)                         [1, 64, 112, 112]         9,408\n",
       "├─BatchNorm2d (bn1)                      [1, 64, 112, 112]         128\n",
       "├─ReLU (relu)                            [1, 64, 112, 112]         --\n",
       "├─MaxPool2d (maxpool)                    [1, 64, 56, 56]           --\n",
       "├─Sequential (layer1)                    [1, 64, 56, 56]           --\n",
       "│    └─BasicBlock (0)                    [1, 64, 56, 56]           --\n",
       "│    │    └─Conv2d (conv1)               [1, 64, 56, 56]           36,864\n",
       "│    │    └─BatchNorm2d (bn1)            [1, 64, 56, 56]           128\n",
       "│    │    └─ReLU (relu)                  [1, 64, 56, 56]           --\n",
       "│    │    └─Conv2d (conv2)               [1, 64, 56, 56]           36,864\n",
       "│    │    └─BatchNorm2d (bn2)            [1, 64, 56, 56]           128\n",
       "│    │    └─ReLU (relu)                  [1, 64, 56, 56]           --\n",
       "│    └─BasicBlock (1)                    [1, 64, 56, 56]           --\n",
       "│    │    └─Conv2d (conv1)               [1, 64, 56, 56]           36,864\n",
       "│    │    └─BatchNorm2d (bn1)            [1, 64, 56, 56]           128\n",
       "│    │    └─ReLU (relu)                  [1, 64, 56, 56]           --\n",
       "│    │    └─Conv2d (conv2)               [1, 64, 56, 56]           36,864\n",
       "│    │    └─BatchNorm2d (bn2)            [1, 64, 56, 56]           128\n",
       "│    │    └─ReLU (relu)                  [1, 64, 56, 56]           --\n",
       "│    └─BasicBlock (2)                    [1, 64, 56, 56]           --\n",
       "│    │    └─Conv2d (conv1)               [1, 64, 56, 56]           36,864\n",
       "│    │    └─BatchNorm2d (bn1)            [1, 64, 56, 56]           128\n",
       "│    │    └─ReLU (relu)                  [1, 64, 56, 56]           --\n",
       "│    │    └─Conv2d (conv2)               [1, 64, 56, 56]           36,864\n",
       "│    │    └─BatchNorm2d (bn2)            [1, 64, 56, 56]           128\n",
       "│    │    └─ReLU (relu)                  [1, 64, 56, 56]           --\n",
       "├─Sequential (layer2)                    [1, 128, 28, 28]          --\n",
       "│    └─BasicBlock (0)                    [1, 128, 28, 28]          --\n",
       "│    │    └─Conv2d (conv1)               [1, 128, 28, 28]          73,728\n",
       "│    │    └─BatchNorm2d (bn1)            [1, 128, 28, 28]          256\n",
       "│    │    └─ReLU (relu)                  [1, 128, 28, 28]          --\n",
       "│    │    └─Conv2d (conv2)               [1, 128, 28, 28]          147,456\n",
       "│    │    └─BatchNorm2d (bn2)            [1, 128, 28, 28]          256\n",
       "│    │    └─Sequential (downsample)      [1, 128, 28, 28]          8,448\n",
       "│    │    └─ReLU (relu)                  [1, 128, 28, 28]          --\n",
       "│    └─BasicBlock (1)                    [1, 128, 28, 28]          --\n",
       "│    │    └─Conv2d (conv1)               [1, 128, 28, 28]          147,456\n",
       "│    │    └─BatchNorm2d (bn1)            [1, 128, 28, 28]          256\n",
       "│    │    └─ReLU (relu)                  [1, 128, 28, 28]          --\n",
       "│    │    └─Conv2d (conv2)               [1, 128, 28, 28]          147,456\n",
       "│    │    └─BatchNorm2d (bn2)            [1, 128, 28, 28]          256\n",
       "│    │    └─ReLU (relu)                  [1, 128, 28, 28]          --\n",
       "│    └─BasicBlock (2)                    [1, 128, 28, 28]          --\n",
       "│    │    └─Conv2d (conv1)               [1, 128, 28, 28]          147,456\n",
       "│    │    └─BatchNorm2d (bn1)            [1, 128, 28, 28]          256\n",
       "│    │    └─ReLU (relu)                  [1, 128, 28, 28]          --\n",
       "│    │    └─Conv2d (conv2)               [1, 128, 28, 28]          147,456\n",
       "│    │    └─BatchNorm2d (bn2)            [1, 128, 28, 28]          256\n",
       "│    │    └─ReLU (relu)                  [1, 128, 28, 28]          --\n",
       "│    └─BasicBlock (3)                    [1, 128, 28, 28]          --\n",
       "│    │    └─Conv2d (conv1)               [1, 128, 28, 28]          147,456\n",
       "│    │    └─BatchNorm2d (bn1)            [1, 128, 28, 28]          256\n",
       "│    │    └─ReLU (relu)                  [1, 128, 28, 28]          --\n",
       "│    │    └─Conv2d (conv2)               [1, 128, 28, 28]          147,456\n",
       "│    │    └─BatchNorm2d (bn2)            [1, 128, 28, 28]          256\n",
       "│    │    └─ReLU (relu)                  [1, 128, 28, 28]          --\n",
       "├─Sequential (layer3)                    [1, 256, 14, 14]          --\n",
       "│    └─BasicBlock (0)                    [1, 256, 14, 14]          --\n",
       "│    │    └─Conv2d (conv1)               [1, 256, 14, 14]          294,912\n",
       "│    │    └─BatchNorm2d (bn1)            [1, 256, 14, 14]          512\n",
       "│    │    └─ReLU (relu)                  [1, 256, 14, 14]          --\n",
       "│    │    └─Conv2d (conv2)               [1, 256, 14, 14]          589,824\n",
       "│    │    └─BatchNorm2d (bn2)            [1, 256, 14, 14]          512\n",
       "│    │    └─Sequential (downsample)      [1, 256, 14, 14]          33,280\n",
       "│    │    └─ReLU (relu)                  [1, 256, 14, 14]          --\n",
       "│    └─BasicBlock (1)                    [1, 256, 14, 14]          --\n",
       "│    │    └─Conv2d (conv1)               [1, 256, 14, 14]          589,824\n",
       "│    │    └─BatchNorm2d (bn1)            [1, 256, 14, 14]          512\n",
       "│    │    └─ReLU (relu)                  [1, 256, 14, 14]          --\n",
       "│    │    └─Conv2d (conv2)               [1, 256, 14, 14]          589,824\n",
       "│    │    └─BatchNorm2d (bn2)            [1, 256, 14, 14]          512\n",
       "│    │    └─ReLU (relu)                  [1, 256, 14, 14]          --\n",
       "│    └─BasicBlock (2)                    [1, 256, 14, 14]          --\n",
       "│    │    └─Conv2d (conv1)               [1, 256, 14, 14]          589,824\n",
       "│    │    └─BatchNorm2d (bn1)            [1, 256, 14, 14]          512\n",
       "│    │    └─ReLU (relu)                  [1, 256, 14, 14]          --\n",
       "│    │    └─Conv2d (conv2)               [1, 256, 14, 14]          589,824\n",
       "│    │    └─BatchNorm2d (bn2)            [1, 256, 14, 14]          512\n",
       "│    │    └─ReLU (relu)                  [1, 256, 14, 14]          --\n",
       "│    └─BasicBlock (3)                    [1, 256, 14, 14]          --\n",
       "│    │    └─Conv2d (conv1)               [1, 256, 14, 14]          589,824\n",
       "│    │    └─BatchNorm2d (bn1)            [1, 256, 14, 14]          512\n",
       "│    │    └─ReLU (relu)                  [1, 256, 14, 14]          --\n",
       "│    │    └─Conv2d (conv2)               [1, 256, 14, 14]          589,824\n",
       "│    │    └─BatchNorm2d (bn2)            [1, 256, 14, 14]          512\n",
       "│    │    └─ReLU (relu)                  [1, 256, 14, 14]          --\n",
       "│    └─BasicBlock (4)                    [1, 256, 14, 14]          --\n",
       "│    │    └─Conv2d (conv1)               [1, 256, 14, 14]          589,824\n",
       "│    │    └─BatchNorm2d (bn1)            [1, 256, 14, 14]          512\n",
       "│    │    └─ReLU (relu)                  [1, 256, 14, 14]          --\n",
       "│    │    └─Conv2d (conv2)               [1, 256, 14, 14]          589,824\n",
       "│    │    └─BatchNorm2d (bn2)            [1, 256, 14, 14]          512\n",
       "│    │    └─ReLU (relu)                  [1, 256, 14, 14]          --\n",
       "│    └─BasicBlock (5)                    [1, 256, 14, 14]          --\n",
       "│    │    └─Conv2d (conv1)               [1, 256, 14, 14]          589,824\n",
       "│    │    └─BatchNorm2d (bn1)            [1, 256, 14, 14]          512\n",
       "│    │    └─ReLU (relu)                  [1, 256, 14, 14]          --\n",
       "│    │    └─Conv2d (conv2)               [1, 256, 14, 14]          589,824\n",
       "│    │    └─BatchNorm2d (bn2)            [1, 256, 14, 14]          512\n",
       "│    │    └─ReLU (relu)                  [1, 256, 14, 14]          --\n",
       "├─Sequential (layer4)                    [1, 512, 7, 7]            --\n",
       "│    └─BasicBlock (0)                    [1, 512, 7, 7]            --\n",
       "│    │    └─Conv2d (conv1)               [1, 512, 7, 7]            1,179,648\n",
       "│    │    └─BatchNorm2d (bn1)            [1, 512, 7, 7]            1,024\n",
       "│    │    └─ReLU (relu)                  [1, 512, 7, 7]            --\n",
       "│    │    └─Conv2d (conv2)               [1, 512, 7, 7]            2,359,296\n",
       "│    │    └─BatchNorm2d (bn2)            [1, 512, 7, 7]            1,024\n",
       "│    │    └─Sequential (downsample)      [1, 512, 7, 7]            132,096\n",
       "│    │    └─ReLU (relu)                  [1, 512, 7, 7]            --\n",
       "│    └─BasicBlock (1)                    [1, 512, 7, 7]            --\n",
       "│    │    └─Conv2d (conv1)               [1, 512, 7, 7]            2,359,296\n",
       "│    │    └─BatchNorm2d (bn1)            [1, 512, 7, 7]            1,024\n",
       "│    │    └─ReLU (relu)                  [1, 512, 7, 7]            --\n",
       "│    │    └─Conv2d (conv2)               [1, 512, 7, 7]            2,359,296\n",
       "│    │    └─BatchNorm2d (bn2)            [1, 512, 7, 7]            1,024\n",
       "│    │    └─ReLU (relu)                  [1, 512, 7, 7]            --\n",
       "│    └─BasicBlock (2)                    [1, 512, 7, 7]            --\n",
       "│    │    └─Conv2d (conv1)               [1, 512, 7, 7]            2,359,296\n",
       "│    │    └─BatchNorm2d (bn1)            [1, 512, 7, 7]            1,024\n",
       "│    │    └─ReLU (relu)                  [1, 512, 7, 7]            --\n",
       "│    │    └─Conv2d (conv2)               [1, 512, 7, 7]            2,359,296\n",
       "│    │    └─BatchNorm2d (bn2)            [1, 512, 7, 7]            1,024\n",
       "│    │    └─ReLU (relu)                  [1, 512, 7, 7]            --\n",
       "├─AdaptiveAvgPool2d (avgpool)            [1, 512, 1, 1]            --\n",
       "├─Linear (fc)                            [1, 1000]                 513,000\n",
       "==========================================================================================\n",
       "Total params: 21,797,672\n",
       "Trainable params: 21,797,672\n",
       "Non-trainable params: 0\n",
       "Total mult-adds (G): 3.66\n",
       "==========================================================================================\n",
       "Input size (MB): 0.60\n",
       "Forward/backward pass size (MB): 59.82\n",
       "Params size (MB): 87.19\n",
       "Estimated Total Size (MB): 147.61\n",
       "=========================================================================================="
      ]
     },
     "execution_count": 30,
     "metadata": {},
     "output_type": "execute_result"
    }
   ],
   "source": [
    "from torchinfo import summary\n",
    "summary(resnet34, (1, 3, 224, 224), row_settings=[\"var_names\"])"
   ]
  },
  {
   "cell_type": "code",
   "execution_count": null,
   "metadata": {},
   "outputs": [
    {
     "ename": "",
     "evalue": "",
     "output_type": "error",
     "traceback": [
      "\u001b[1;31mThe Kernel crashed while executing code in the the current cell or a previous cell. Please review the code in the cell(s) to identify a possible cause of the failure. Click <a href='https://aka.ms/vscodeJupyterKernelCrash'>here</a> for more info. View Jupyter <a href='command:jupyter.viewOutput'>log</a> for further details."
     ]
    }
   ],
   "source": [
    "class SimpleCNN(nn.Module):\n",
    "    def __init__(self):\n",
    "        super().__init__()\n",
    "        self.conv1 = nn.Conv2d(in_channels=3, out_channels=16, kernel_size=3, stride=1, padding=1)\n",
    "        self.conv2 = nn.Conv2d(in_channels=16, out_channels=16, kernel_size=3, stride=2, padding=1)\n",
    "        self.conv3 = nn.Conv2d(in_channels=16, out_channels=32, kernel_size=3, stride=1, padding=1)\n",
    "        self.conv4 = nn.Conv2d(in_channels=32, out_channels=32, kernel_size=3, stride=2, padding=1)\n",
    "        self.conv5 = nn.Conv2d(in_channels=32, out_channels=64, kernel_size=3, stride=1, padding=1)\n",
    "        self.conv6 = nn.Conv2d(in_channels=64, out_channels=64, kernel_size=3, stride=2, padding=1)\n",
    "        self.avg_pool = nn.AdaptiveAvgPool2d((1, 1))\n",
    "        self.fc = nn.Linear(64, 1)\n",
    "\n",
    "    def forward(self, x):\n",
    "        x = F.relu(self.conv1(x))\n",
    "        x = F.relu(self.conv2(x))\n",
    "        x = F.relu(self.conv3(x))\n",
    "        x = F.relu(self.conv4(x))\n",
    "        x = F.relu(self.conv5(x))\n",
    "        x = F.relu(self.conv6(x))\n",
    "        x = self.avg_pool(x).squeeze()\n",
    "        x = self.fc(x)\n",
    "        return x\n",
    "\n",
    "\n",
    "def train(model, optimizer, trainloader):\n",
    "    losses_epoch = []\n",
    "    for input, target in trainloader:\n",
    "        input, target = input.cuda(), target.cuda()\n",
    "\n",
    "        optimizer.zero_grad()\n",
    "        output = model(input).squeeze()\n",
    "        loss = criterion(output, target)\n",
    "        loss.backward()\n",
    "        optimizer.step()\n",
    "        losses.append(loss.item())\n",
    "    \n",
    "    return np.mean(losses_epoch)\n",
    "\n",
    "\n",
    "\n",
    "\n",
    "# Initialize the model\n",
    "model = SimpleCNN().cuda()\n",
    "\n",
    "# Define a loss function and optimizer\n",
    "criterion = nn.MSELoss(reduction='mean')\n",
    "optimizer = torch.optim.SGD(model.parameters(), lr=0.001, momentum=0.9)\n",
    "\n",
    "\n",
    "\n",
    "\n",
    "epochs = 100\n",
    "losses = []\n",
    "for epoch in tqdm(range(epochs)):\n",
    "    loss = train(model, optimizer, trainloader)\n",
    "    losses.append(loss)\n",
    "    print(loss)\n",
    "    \n",
    "    "
   ]
  },
  {
   "cell_type": "markdown",
   "metadata": {},
   "source": [
    "# results"
   ]
  },
  {
   "cell_type": "code",
   "execution_count": 5,
   "metadata": {},
   "outputs": [],
   "source": [
    "import matplotlib.pyplot as plt"
   ]
  },
  {
   "cell_type": "code",
   "execution_count": 6,
   "metadata": {},
   "outputs": [],
   "source": [
    "results = pd.read_pickle('/usr/users/henrich1/exercises_summer_school/data/train_weight/metrics.pkl')"
   ]
  },
  {
   "cell_type": "code",
   "execution_count": 8,
   "metadata": {},
   "outputs": [
    {
     "data": {
      "text/plain": [
       "<matplotlib.legend.Legend at 0x7f2c741acdf0>"
      ]
     },
     "execution_count": 8,
     "metadata": {},
     "output_type": "execute_result"
    },
    {
     "data": {
      "image/png": "[encoded data removed]",
      "text/plain": [
       "<Figure size 640x480 with 1 Axes>"
      ]
     },
     "metadata": {},
     "output_type": "display_data"
    }
   ],
   "source": [
    "# Plot the losses\n",
    "plt.scatter(range(len(results)), results['train_loss'], label='Train Loss')\n",
    "plt.scatter(range(len(results)), results['val_loss'], label='Validation Loss')\n",
    "\n",
    "# Add labels and legend\n",
    "plt.xlabel('Epochs')\n",
    "plt.ylabel('Loss')\n",
    "plt.legend()"
   ]
  }
 ],
 "metadata": {
  "kernelspec": {
   "display_name": "pigenv",
   "language": "python",
   "name": "python3"
  },
  "language_info": {
   "codemirror_mode": {
    "name": "ipython",
    "version": 3
   },
   "file_extension": ".py",
   "mimetype": "text/x-python",
   "name": "python",
   "nbconvert_exporter": "python",
   "pygments_lexer": "ipython3",
   "version": "3.10.12"
  },
  "orig_nbformat": 4
 },
 "nbformat": 4,
 "nbformat_minor": 2
}
