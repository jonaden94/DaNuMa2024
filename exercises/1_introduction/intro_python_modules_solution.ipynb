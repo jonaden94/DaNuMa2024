{
 "cells": [
  {
   "cell_type": "markdown",
   "metadata": {},
   "source": [
    "# Exercises"
   ]
  },
  {
   "cell_type": "markdown",
   "metadata": {},
   "source": [
    "1. Load the Titanic dataset and display the first 5 rows. Then, use Pandas to display basic information and summary statistics of the dataset."
   ]
  },
  {
   "cell_type": "code",
   "execution_count": null,
   "metadata": {},
   "outputs": [],
   "source": [
    "import pandas as pd\n",
    "from sklearn.datasets import fetch_openml\n",
    "\n",
    "titanic = fetch_openml(\"titanic\", version=1, as_frame=True)\n",
    "df = titanic.frame\n",
    "df[\"survived\"] = pd.to_numeric(df['survived'], errors='coerce') \n",
    "\n",
    "### Your code here:\n",
    "# Display the first 5 rows\n",
    "print(df.head(5))\n",
    "\n",
    "# Display basic info\n",
    "print(df.info())\n",
    "\n",
    "# Display summary statistics\n",
    "print(df.describe())"
   ]
  },
  {
   "cell_type": "markdown",
   "metadata": {},
   "source": [
    "2. How many passengers survived and how many did not survive? Use Pandas to count the number of survivors and non-survivors (the Survived column)."
   ]
  },
  {
   "cell_type": "code",
   "execution_count": null,
   "metadata": {},
   "outputs": [],
   "source": [
    "survival_count = df[\"survived\"].value_counts()\n",
    "print(survival_count)"
   ]
  },
  {
   "cell_type": "markdown",
   "metadata": {},
   "source": [
    "3. What is the average age of the passengers? Use Pandas to calculate the mean age from the Age column. Ignore missing values in the calculation."
   ]
  },
  {
   "cell_type": "code",
   "execution_count": null,
   "metadata": {},
   "outputs": [],
   "source": [
    "average_age = df[\"age\"].mean()\n",
    "print(average_age)"
   ]
  },
  {
   "cell_type": "markdown",
   "metadata": {},
   "source": [
    "4. What was the survival rate for male and female passengers? Use group-by functionality to calculate the survival rate by gender (Sex column)."
   ]
  },
  {
   "cell_type": "code",
   "execution_count": null,
   "metadata": {},
   "outputs": [],
   "source": [
    "survival_rate_by_gender = df.groupby(\"sex\", observed=True)[\"survived\"].mean()\n",
    "print(survival_rate_by_gender)\n"
   ]
  },
  {
   "cell_type": "markdown",
   "metadata": {},
   "source": [
    "5. Create a 4x4 array filled with random values and find the sum of all elements."
   ]
  },
  {
   "cell_type": "code",
   "execution_count": null,
   "metadata": {},
   "outputs": [],
   "source": [
    "import numpy as np\n",
    "\n",
    "random_array = np.random.rand(4, 4)\n",
    "total_sum = np.sum(random_array)\n",
    "print(random_array)\n",
    "print(\"Sum of all elements:\", total_sum)"
   ]
  },
  {
   "cell_type": "markdown",
   "metadata": {},
   "source": [
    "6. Generate an array with 15 evenly spaced values between 5 and 50. Then, reshape this array into a 3x5 matrix."
   ]
  },
  {
   "cell_type": "code",
   "execution_count": null,
   "metadata": {},
   "outputs": [],
   "source": [
    "even_spaced_array = np.linspace(5, 50, 15)\n",
    "reshaped_array = even_spaced_array.reshape(3, 5)\n",
    "print(reshaped_array)"
   ]
  },
  {
   "cell_type": "markdown",
   "metadata": {},
   "source": [
    "7. Given two arrays a and b, perform element-wise subtraction of b from a and print the result."
   ]
  },
  {
   "cell_type": "code",
   "execution_count": null,
   "metadata": {},
   "outputs": [],
   "source": [
    "a = np.array([10, 20, 30, 40, 50])\n",
    "b = np.array([5, 4, 3, 2, 1])\n",
    "result = a - b\n",
    "print(result)"
   ]
  },
  {
   "cell_type": "markdown",
   "metadata": {},
   "source": [
    "8. Given the following 3x3 matrix, extract the second row and third column element from the matrix and print it."
   ]
  },
  {
   "cell_type": "code",
   "execution_count": null,
   "metadata": {},
   "outputs": [],
   "source": [
    "matrix = np.array([[1, 2, 3], [4, 5, 6], [7, 8, 9]])\n",
    "print(matrix[1, 2])"
   ]
  },
  {
   "cell_type": "markdown",
   "metadata": {},
   "source": [
    "9. Plot the following function\n",
    "\n",
    "$$ y = x^{0.65} \\cdot e^{-0.25x} $$\n",
    "\n",
    "and display it with a dashed red line. Hint: use numpy's `power` and `exp` functions to translate it into Python code."
   ]
  },
  {
   "cell_type": "code",
   "execution_count": null,
   "metadata": {},
   "outputs": [],
   "source": [
    "import matplotlib.pyplot as plt\n",
    "\n",
    "def func(x):\n",
    "    return np.power(x, 0.65) * np.exp(x * -0.25)\n",
    "\n",
    "x = np.linspace(0, 10, 100)\n",
    "y = func(x)\n",
    "\n",
    "plt.plot(x, y, 'r--')\n",
    "plt.title(\"Plot of $x^{3.14} \\cdot e^{-0.45x}$\")\n",
    "plt.xlabel(\"x\")\n",
    "plt.ylabel(\"y\")\n",
    "plt.grid(True)\n",
    "plt.show()\n",
    "\n",
    "\n"
   ]
  }
 ],
 "metadata": {
  "kernelspec": {
   "display_name": "ml_basics",
   "language": "python",
   "name": "python3"
  },
  "language_info": {
   "codemirror_mode": {
    "name": "ipython",
    "version": 3
   },
   "file_extension": ".py",
   "mimetype": "text/x-python",
   "name": "python",
   "nbconvert_exporter": "python",
   "pygments_lexer": "ipython3",
   "version": "3.10.14"
  }
 },
 "nbformat": 4,
 "nbformat_minor": 2
}
