{
 "cells": [
  {
   "cell_type": "markdown",
   "metadata": {},
   "source": [
    "# Basics for Data Processing in Python "
   ]
  },
  {
   "cell_type": "markdown",
   "metadata": {},
   "source": [
    "If you run this notebook in google colab, set colab to True else False"
   ]
  },
  {
   "cell_type": "code",
   "execution_count": 6,
   "metadata": {},
   "outputs": [],
   "source": [
    "colab = True"
   ]
  },
  {
   "cell_type": "code",
   "execution_count": 3,
   "metadata": {},
   "outputs": [],
   "source": [
    "import os\n",
    "import pandas as pd\n",
    "import numpy as np\n",
    "import matplotlib.pyplot as plt\n",
    "\n",
    "if colab:\n",
    "    # define download url\n",
    "    base = 'https://data.goettingen-research-online.de/api/access/datafile/:persistentId?persistentId=doi:10.25625/9AIY3V'\n",
    "    folder = 'BXERKF'\n",
    "    download_url = os.path.join(base, folder)\n",
    "\n",
    "    # define save paths\n",
    "    save_name_zip = '1_introduction.zip'\n",
    "    raw_data_folder = 'data/raw_data'\n",
    "    save_data_folder = 'data/output_data'\n",
    "\n",
    "    # make data directories\n",
    "    !mkdir -p $raw_data_folder\n",
    "    !mkdir -p $save_data_folder\n",
    "\n",
    "    # download and unzip data\n",
    "    !wget -O $save_name_zip $download_url\n",
    "    !unzip $save_name_zip -d $raw_data_folder\n",
    "    !rm -rf $save_name_zip\n",
    "    \n",
    "    home_dir = '/content'\n",
    "    raw_data_dir = os.path.join(home_dir, 'data/raw_data')\n",
    "    output_data_dir = os.path.join(home_dir, 'data/output_data')\n",
    "else:\n",
    "    home_dir = os.path.expanduser('~')\n",
    "    raw_data_dir = os.path.join(home_dir, 'repos/DaNuMa2024/data/raw_data')\n",
    "    output_data_dir = os.path.join(home_dir, 'repos/DaNuMa2024/data/output_data')"
   ]
  },
  {
   "cell_type": "markdown",
   "metadata": {},
   "source": [
    "## Module Overview\n",
    "\n",
    "### [Pandas](#basic-Pandas-functionality)\n",
    "\n",
    "- creating tabular data, aka \"DataFrames\"\n",
    "- loading data from external sources (text files, databases etc.)\n",
    "- data sorting and selection\n",
    "- creation of derived data\n",
    "- time-series functionality\n",
    "- plausibility checking and imputation\n",
    "\n",
    "### [Numpy](#basic-numpy-functionality)\n",
    "\n",
    "- fast array and matrix manipulation and operations\n",
    "- linear algebra\n",
    "- applying mathematical functions\n",
    "\n",
    "### [Matplotlib](#basic-matplotlib-functionality)\n",
    "\n",
    "- visualization of data and results\n",
    "- highly customizable plots\n",
    "\n",
    "### [Exercises](#exercises)"
   ]
  },
  {
   "cell_type": "markdown",
   "metadata": {},
   "source": [
    "## Basic Pandas functionality\n",
    "\n",
    "Pandas works with objects called `DataFrame`. They store data in tabular form (rows and columns).\n",
    "\n",
    "This code loads sample data from a CSV (comma-seperated values) file and displays the first five rows with the `head` function"
   ]
  },
  {
   "cell_type": "code",
   "execution_count": null,
   "metadata": {},
   "outputs": [],
   "source": [
    "filename = os.path.join(raw_data_dir, \"1_introduction/example.csv\")\n",
    "\n",
    "data = pd.read_csv(filename, decimal=\".\", sep=\",\", encoding=\"utf-8\")\n",
    "print(data.head(5))"
   ]
  },
  {
   "cell_type": "markdown",
   "metadata": {},
   "source": [
    "You can also create Dataframes from other data formats, for example from a dictionary, where the keys are the column names and the values are lists of the column values."
   ]
  },
  {
   "cell_type": "code",
   "execution_count": null,
   "metadata": {},
   "outputs": [],
   "source": [
    "lab_data = {\n",
    "    \"run\": [1, 2, 3, 4, 5],\n",
    "    \"measurement\": [0.435, 1.2784, 3.453, 0.988, 5.3482]\n",
    "}\n",
    "\n",
    "lab_data_df = pd.DataFrame.from_dict(lab_data)\n",
    "print(lab_data_df)"
   ]
  },
  {
   "cell_type": "markdown",
   "metadata": {},
   "source": [
    "It is good practice to get an overview of the data first, to see if they are loaded correctly.\n",
    "\n",
    "For this you can use the `DataFrame.info()` and `DataFrame.describe()` methods:"
   ]
  },
  {
   "cell_type": "code",
   "execution_count": null,
   "metadata": {},
   "outputs": [],
   "source": [
    "print(data.info(verbose=True))\n",
    "print(data.describe())"
   ]
  },
  {
   "cell_type": "markdown",
   "metadata": {},
   "source": [
    "### Selecting subsets of data\n",
    "\n",
    "You can select a specific column of your dataframe with the name of the column header in square brackets: `data[column_name]`. You can also pass a list of column names. If you pass a range of integer values, you get the corresponding rows.\n",
    "\n",
    "Also, the column name can be treated like any other property of a Python object (`data.age` for example), but this won't work if the column name has spaces in it, or any other characters that aren't allowed in variable names. Also, this can be harder to read since it's not directly clear that `age` is a column and not some default property of a DataFrame.\n",
    "\n",
    "Lastly, there is the `DataFrame.loc` property, which we will talk more about later."
   ]
  },
  {
   "cell_type": "code",
   "execution_count": null,
   "metadata": {},
   "outputs": [],
   "source": [
    "age_data = data[\"age\"]\n",
    "# or \n",
    "age_data = data.age\n",
    "# or\n",
    "age_data = data.loc[:,\"age\"]\n",
    " # loc selects data by [index (=row), column], a colon : will just select everything\n",
    "print(age_data)\n",
    "\n",
    "# multiple columns\n",
    "scores = data[[\"name\", \"score\"]]\n",
    "print(scores)\n",
    "\n",
    "# passing a range accesses matching rows\n",
    "subset = data[0:2]\n",
    "print(subset)"
   ]
  },
  {
   "cell_type": "markdown",
   "metadata": {},
   "source": [
    "### Filtering data\n",
    "\n",
    "Often you need to select data that matches certain criteria. For example, in our data we want only people with a \"score\" of 90 and above. For that you have to specify one or more conditions inside the square brackets. This way, a mask is created (an array of boolean values) that is only true for the rows that meet the criteria."
   ]
  },
  {
   "cell_type": "code",
   "execution_count": null,
   "metadata": {},
   "outputs": [],
   "source": [
    "# get the people with scores >= 90\n",
    "high_scorers = data[data[\"score\"] >= 90]\n",
    "\n",
    "# the expression inside the brackets creates a boolean mask, which is used \n",
    "# to select only the cells where the mask is \"True\"\n",
    "mask = data[\"score\"] >= 90\n",
    "print(mask)\n",
    "print(\"\\nscore >= 90\\n\", data[mask])\n",
    "\n",
    "# filtering with multiple conditions\n",
    "height_scorers = data[(data[\"score\"] >= 90) & (data[\"height\"] >= 6.0)]\n",
    "print(\"\\nscore >= 90 and height >= 6\\n\", height_scorers)"
   ]
  },
  {
   "cell_type": "code",
   "execution_count": null,
   "metadata": {},
   "outputs": [],
   "source": [
    "# selecting rows and columns simultaneously with .loc and .iloc\n",
    "# select data where \"id\" is either 1, 2, or 3, and the column is \"name\"\n",
    "subset = data.loc[data[\"id\"].isin([1, 2, 3]), \"name\"]\n",
    "print(subset)\n",
    "\n",
    "# select data with index from 0 to 2, and columns from 1 to 3\n",
    "subset_2 = data.iloc[0:3, 1:4]\n",
    "print(subset_2)"
   ]
  },
  {
   "cell_type": "markdown",
   "metadata": {},
   "source": [
    "### Adding new data"
   ]
  },
  {
   "cell_type": "code",
   "execution_count": null,
   "metadata": {},
   "outputs": [],
   "source": [
    "# Adding new data to an existing DataFrame\n",
    "# adding a new column from a series\n",
    "pet_data = pd.Series([\"cat\", \"dog\", \"cat\", \"goldfish\", \"hamster\", \"parrot\", \n",
    "                      \"rabbit\", \"turtle\", \"guinea pig\", \"ferret\"])\n",
    "\n",
    "\n",
    "data[\"pet\"] = pet_data\n",
    "print(data)\n",
    "\n",
    "# adding data from a dictionary with merge()\n",
    "# missing values get filled with NaN (not a number)\n",
    "group_data = pd.DataFrame.from_dict({\"name\": [\"Alice Smith\", \"Charlie Williams\", \"David Brown\", \"Fay Garcia\"], \"group\": [1, 1, 2, 2]})\n",
    "print(group_data)\n",
    "merged_data = data.merge(group_data, how=\"left\")\n",
    "print(merged_data)"
   ]
  },
  {
   "cell_type": "code",
   "execution_count": null,
   "metadata": {},
   "outputs": [],
   "source": [
    "# creating new columns from existing ones\n",
    "\n",
    "# calculating the score to age ratio\n",
    "data[\"score_age_ratio\"] = data[\"score\"] / data[\"age\"]\n",
    "print(data[[\"name\", \"score_age_ratio\"]])\n",
    "\n",
    "# applying a function to a column\n",
    "def get_first_name(full_name):\n",
    "    return full_name.split(\" \")[0]\n",
    "\n",
    "data[\"first_name\"] = data[\"name\"].apply(get_first_name)\n",
    "print(data[\"first_name\"])\n",
    "\n",
    "# you can also pass an anonymous function. less code, but sometimes harder to read\n",
    "data[\"last_name\"] = data[\"name\"].apply(lambda x: x.split(\" \")[-1])\n",
    "print(data[\"last_name\"])"
   ]
  },
  {
   "cell_type": "markdown",
   "metadata": {},
   "source": [
    "### Exporting data\n",
    "\n",
    "You can write your data back to a csv file similar to how you read it. You can also choose a different format if it fits your use case better (e.g. JSON or Numpy .npy)."
   ]
  },
  {
   "cell_type": "code",
   "execution_count": 12,
   "metadata": {},
   "outputs": [],
   "source": [
    "data.to_csv(os.path.join(output_data_dir, \"edited_example.csv\"), index=False)\n",
    "\n",
    "data.to_json(os.path.join(output_data_dir, \"edited_example.json\"), indent=2)"
   ]
  },
  {
   "cell_type": "markdown",
   "metadata": {},
   "source": [
    "## Basic Numpy functionality"
   ]
  },
  {
   "cell_type": "markdown",
   "metadata": {},
   "source": [
    "Numpy works with \"arrays\", which are data structures with N dimensions. They are mostly used to represent vectors and matrices.\n",
    "The most basic example is a one-dimensional array, which behaves a lot like the `list` from Python's standard library. In fact, you can simply create a 1D array by passing a list:"
   ]
  },
  {
   "cell_type": "code",
   "execution_count": null,
   "metadata": {},
   "outputs": [],
   "source": [
    "array_1 = np.array([1, 2, 3, 4, 5])\n",
    "print(array_1)"
   ]
  },
  {
   "cell_type": "markdown",
   "metadata": {},
   "source": [
    "If you want more than one dimension, you can create an array by passing nested lists:"
   ]
  },
  {
   "cell_type": "code",
   "execution_count": null,
   "metadata": {},
   "outputs": [],
   "source": [
    "array_2 = np.array([\n",
    "    [1, 2, 3],\n",
    "    [4, 5, 6],\n",
    "    [7, 8, 9]\n",
    "])\n",
    "print(array_2)\n",
    "print(\"Shape: \", array_2.shape)\n",
    "print(\"Dimensions: \", array_2.ndim)\n",
    "print(\"Size: \", array_2.size)"
   ]
  },
  {
   "cell_type": "markdown",
   "metadata": {},
   "source": [
    "Numpy expects the dimensions to be consistent, so if you pass it lists of different dimensions, it will throw an error:"
   ]
  },
  {
   "cell_type": "code",
   "execution_count": null,
   "metadata": {},
   "outputs": [],
   "source": [
    "try:\n",
    "    array_3 = np.array([\n",
    "        [1, 2, 3],\n",
    "        [4, 5, 6],\n",
    "        [7, 8, 9, 10]\n",
    "    ])\n",
    "except ValueError as e:\n",
    "    print(e)"
   ]
  },
  {
   "cell_type": "markdown",
   "metadata": {},
   "source": [
    "Numpy provides functions to create arrays of zeros or ones, which are useful for initializing weights in machine learning:"
   ]
  },
  {
   "cell_type": "code",
   "execution_count": null,
   "metadata": {},
   "outputs": [],
   "source": [
    "zeros_array = np.zeros((2, 3))\n",
    "print(zeros_array)\n",
    "\n",
    "ones_array = np.ones((2, 3))\n",
    "print(ones_array)"
   ]
  },
  {
   "cell_type": "markdown",
   "metadata": {},
   "source": [
    "If you need arrays with evenly spaced values you can use `arange`, which is similar to `list(range())`:"
   ]
  },
  {
   "cell_type": "code",
   "execution_count": null,
   "metadata": {},
   "outputs": [],
   "source": [
    "even_spaced_array = np.arange(0, 12, 2)\n",
    "print(even_spaced_array)"
   ]
  },
  {
   "cell_type": "markdown",
   "metadata": {},
   "source": [
    "The `linspace` function behaves similarly, but instead of the interval you give it the number of values, and it will calculate the interval for you."
   ]
  },
  {
   "cell_type": "code",
   "execution_count": null,
   "metadata": {},
   "outputs": [],
   "source": [
    "even_spaced_array2 = np.linspace(0, 100, num=12)\n",
    "print(even_spaced_array2)"
   ]
  },
  {
   "cell_type": "markdown",
   "metadata": {},
   "source": [
    "Reshaping an array into a different dimension can be useful. If you want to reshape into one dimension, you can use `flatten()`"
   ]
  },
  {
   "cell_type": "code",
   "execution_count": null,
   "metadata": {},
   "outputs": [],
   "source": [
    "reshaped_array = even_spaced_array.reshape(3, 2)\n",
    "print(reshaped_array)\n",
    "flattened_array = reshaped_array.flatten()\n",
    "print(flattened_array)"
   ]
  },
  {
   "cell_type": "markdown",
   "metadata": {},
   "source": [
    "Numpy supports element-wise operations. For example, you can add, subtract, or multiply arrays of the same shape. \n",
    "Matrix multiplication can be done with `dot` or `@` operator."
   ]
  },
  {
   "cell_type": "code",
   "execution_count": null,
   "metadata": {},
   "outputs": [],
   "source": [
    "matrix_a = np.array([[1, 2], [3, 4]])\n",
    "matrix_b = np.array([[5, 6], [7, 8]])\n",
    "result_matrix = np.dot(matrix_a, matrix_b)\n",
    "print(result_matrix)\n",
    "\n",
    "result_matrix = matrix_a @ matrix_b\n",
    "print(result_matrix)"
   ]
  },
  {
   "cell_type": "markdown",
   "metadata": {},
   "source": [
    "Numpy also provides simple statistical operations such as mean, sum, min, and max."
   ]
  },
  {
   "cell_type": "code",
   "execution_count": null,
   "metadata": {},
   "outputs": [],
   "source": [
    "mean_value = np.mean(array_1)\n",
    "print(\"Mean: \", mean_value)\n",
    "\n",
    "total_sum = np.sum(array_1)\n",
    "print(\"Sum: \", total_sum)\n",
    "\n",
    "min_value = np.min(array_1)\n",
    "print(\"Min :\", min_value)\n",
    "\n",
    "max_value = np.max(array_1)\n",
    "print(\"Max: \", max_value)"
   ]
  },
  {
   "cell_type": "markdown",
   "metadata": {},
   "source": [
    "When you ask for the statistics of a multidimensional array, the array is treatened as if it was flattened."
   ]
  },
  {
   "cell_type": "code",
   "execution_count": null,
   "metadata": {},
   "outputs": [],
   "source": [
    "mean_value2 = np.mean(array_2)\n",
    "print(\"Mean of whole array: \", mean_value2)"
   ]
  },
  {
   "cell_type": "markdown",
   "metadata": {},
   "source": [
    "### Array indexing\n",
    "Numpy arrays support indexing, which allows you to access individual elements or slices of the array.\n",
    "\n",
    "For a one-dimensional array, indexing works just like with Python lists:"
   ]
  },
  {
   "cell_type": "code",
   "execution_count": null,
   "metadata": {},
   "outputs": [],
   "source": [
    "array_1d = np.array([10, 20, 30, 40, 50])\n",
    "print(array_1d[0])  # Access the first element\n",
    "print(array_1d[-1])  # Access the last element"
   ]
  },
  {
   "cell_type": "markdown",
   "metadata": {},
   "source": [
    "For two-dimensional arrays (matrices), you can access elements using row and column indices."
   ]
  },
  {
   "cell_type": "code",
   "execution_count": null,
   "metadata": {},
   "outputs": [],
   "source": [
    "array_2d = np.array([[1, 2, 3], [4, 5, 6], [7, 8, 9]])\n",
    "print(array_2d[0, 0])  # Access the element in the first row, first column\n",
    "print(array_2d[1, 2])  # Access the element in the second row, third column"
   ]
  },
  {
   "cell_type": "markdown",
   "metadata": {},
   "source": [
    "You can also use slicing to access subarrays. For a 2D array, slicing works by selecting ranges of rows and columns. \n",
    "Negative indexing can also be used to access elements from the end."
   ]
  },
  {
   "cell_type": "code",
   "execution_count": null,
   "metadata": {},
   "outputs": [],
   "source": [
    "print(array_1d[1:4])\n",
    "print(array_2d[0:2, 1:3])\n",
    "print(array_2d[-1, -1])"
   ]
  },
  {
   "cell_type": "markdown",
   "metadata": {},
   "source": [
    "You can select entire rows or columns:"
   ]
  },
  {
   "cell_type": "code",
   "execution_count": null,
   "metadata": {},
   "outputs": [],
   "source": [
    "print(array_2d[1, :])  # Access the entire second row\n",
    "print(array_2d[:, 2])  # Access the entire third column"
   ]
  },
  {
   "cell_type": "markdown",
   "metadata": {},
   "source": [
    "Finally, you can modify an array by assigning values to an indexed position or slice."
   ]
  },
  {
   "cell_type": "code",
   "execution_count": null,
   "metadata": {},
   "outputs": [],
   "source": [
    "array_2d[0, 0] = 99\n",
    "print(array_2d)\n",
    "\n",
    "array_2d[1, :] = [10, 20, 30]\n",
    "print(array_2d)"
   ]
  },
  {
   "cell_type": "markdown",
   "metadata": {},
   "source": [
    "### Sorting\n",
    "\n",
    "sorting a 1D array works similar to a list. The `np.sort()` function will return a sorted copy, while `array.sort()` sorts in place, meaning it changes the original array."
   ]
  },
  {
   "cell_type": "code",
   "execution_count": null,
   "metadata": {},
   "outputs": [],
   "source": [
    "unsorted_array = np.array([3, 5, 2, 4, 1, 6])\n",
    "print(np.sort(unsorted_array))\n",
    "\n",
    "print(unsorted_array)\n",
    "unsorted_array.sort()  # sort in place\n",
    "print(unsorted_array)"
   ]
  },
  {
   "cell_type": "markdown",
   "metadata": {},
   "source": [
    "For arrays with multiple dimensions you can use the `index` argument. "
   ]
  },
  {
   "cell_type": "code",
   "execution_count": null,
   "metadata": {},
   "outputs": [],
   "source": [
    "unsorted_2d = np.array([\n",
    "    [5, 3, 4, 9], \n",
    "    [4, 1, 7, 2], \n",
    "    [1, 3, 2, 3]\n",
    "    ])\n",
    "print(np.sort(unsorted_2d, axis=0))\n",
    "print(np.sort(unsorted_2d, axis=1))"
   ]
  },
  {
   "cell_type": "markdown",
   "metadata": {},
   "source": [
    "`np.argsort` returns the sorted index instead of a sorted array. This can be useful in some cases."
   ]
  },
  {
   "cell_type": "code",
   "execution_count": null,
   "metadata": {},
   "outputs": [],
   "source": [
    "sorted_index = np.argsort(unsorted_2d, axis=1)\n",
    "print(sorted_index)\n",
    "sorted_2d = np.take_along_axis(unsorted_2d, sorted_index, axis=1)\n",
    "print(sorted_2d)"
   ]
  },
  {
   "cell_type": "markdown",
   "metadata": {},
   "source": [
    "### data types\n",
    "\n",
    "Arrays have fixed data types. By default, numpy infers them from the data you pass in. You can also explicitly specify the data type. "
   ]
  },
  {
   "cell_type": "code",
   "execution_count": null,
   "metadata": {},
   "outputs": [],
   "source": [
    "int_array = np.array([1, 2, 3, 4])\n",
    "print(int_array.dtype)\n",
    "\n",
    "float_array = np.array([1.0, 1.5, 2.0])\n",
    "print(float_array.dtype)\n",
    "\n",
    "# Specify the data type. You might lose some information if you are not careful.\n",
    "int_array_2 = np.array([1.0, 1.5, 2.0], dtype=np.int64)\n",
    "print(int_array_2)"
   ]
  },
  {
   "cell_type": "markdown",
   "metadata": {},
   "source": [
    "You can use the `object` datatype to store any Python object in a numpy array, if you really need to. But you need to be careful since you lose some functionality."
   ]
  },
  {
   "cell_type": "code",
   "execution_count": null,
   "metadata": {},
   "outputs": [],
   "source": [
    "mixed_array = np.array(\n",
    "    [[1, 2, 3, 4],\n",
    "     [1.1, 2.2, 3.3, 4.4],\n",
    "     \"John Smith\",\n",
    "     {\"hello\": \"world\"},\n",
    "     np.array([4, 5, 6])],\n",
    "     dtype=object\n",
    ")\n",
    "print(mixed_array)"
   ]
  },
  {
   "cell_type": "markdown",
   "metadata": {},
   "source": [
    "### Exporting and importing data\n",
    "\n",
    "Sometimes you want to save your numpy arrays for later, or pass them to another program. "
   ]
  },
  {
   "cell_type": "code",
   "execution_count": null,
   "metadata": {},
   "outputs": [],
   "source": [
    "filename = os.path.join(output_data_dir, \"numpy_data.npy\")\n",
    "np.save(filename, sorted_2d)\n",
    "\n",
    "# read the data \n",
    "np_data = np.load(filename)\n",
    "print(np_data)"
   ]
  },
  {
   "cell_type": "markdown",
   "metadata": {},
   "source": [
    "## Basic Matplotlib functionality\n",
    "\n",
    "`Matplotlib.pyplot` is a common module used for plotting. You often see this imported as `plt`, this is just to save some space in your code.\n",
    "\n",
    "Here is an example for a simple line graph:"
   ]
  },
  {
   "cell_type": "code",
   "execution_count": null,
   "metadata": {},
   "outputs": [],
   "source": [
    "x = np.arange(0, 10, 1)\n",
    "y = x ** 2\n",
    "\n",
    "plt.plot(x, y)\n",
    "plt.title(\"Line Graph of y = x^2\")\n",
    "plt.xlabel(\"x\")\n",
    "plt.ylabel(\"y\")\n",
    "plt.show()\n"
   ]
  },
  {
   "cell_type": "markdown",
   "metadata": {},
   "source": [
    "You can plot as many lines as you want into one figure."
   ]
  },
  {
   "cell_type": "code",
   "execution_count": null,
   "metadata": {},
   "outputs": [],
   "source": [
    "x = np.arange(0, 10, 1)\n",
    "y = x ** 2\n",
    "y2 = x ** 3\n",
    "\n",
    "plt.plot(x, y, label=\"y = x^2\")\n",
    "plt.plot(x, y2, label=\"y = x^3\", linestyle='--')\n",
    "plt.title(\"Multiple Line Plots\")\n",
    "plt.xlabel(\"x\")\n",
    "plt.ylabel(\"y\")\n",
    "plt.legend()\n",
    "plt.show()"
   ]
  },
  {
   "cell_type": "markdown",
   "metadata": {},
   "source": [
    "All kinds of plots are being supported. Here is a scatter plot for example:"
   ]
  },
  {
   "cell_type": "code",
   "execution_count": null,
   "metadata": {},
   "outputs": [],
   "source": [
    "x = np.random.rand(50)\n",
    "y = np.random.rand(50)\n",
    "\n",
    "plt.scatter(x, y, color='r')\n",
    "plt.title(\"Scatter Plot of Random Points\")\n",
    "plt.xlabel(\"x\")\n",
    "plt.ylabel(\"y\")\n",
    "plt.show()"
   ]
  },
  {
   "cell_type": "markdown",
   "metadata": {},
   "source": [
    "You can put multiple plots into one figure using `subplots`. Here is an example with different kind of plots."
   ]
  },
  {
   "cell_type": "code",
   "execution_count": null,
   "metadata": {},
   "outputs": [],
   "source": [
    "# Scatter Plot data\n",
    "x_scatter = np.random.rand(50)\n",
    "y_scatter = np.random.rand(50)\n",
    "\n",
    "# Bar plot data\n",
    "categories = ['A', 'B', 'C', 'D']\n",
    "values = [5, 7, 3, 8]\n",
    "\n",
    "# Histgram data\n",
    "data_hist = np.random.randn(1000)\n",
    "\n",
    "\n",
    "# Create a figure and define subplots\n",
    "plt.figure(figsize=(12, 4))\n",
    "\n",
    "# Scatter plot (1st subplot)\n",
    "plt.subplot(1, 3, 1)\n",
    "plt.scatter(x_scatter, y_scatter, color='r')\n",
    "plt.title(\"Scatter Plot\")\n",
    "plt.xlabel(\"x\")\n",
    "plt.ylabel(\"y\")\n",
    "\n",
    "# Bar plot (2nd subplot)\n",
    "plt.subplot(1, 3, 2)\n",
    "plt.bar(categories, values, color='b')\n",
    "plt.title(\"Bar Plot\")\n",
    "plt.xlabel(\"Category\")\n",
    "plt.ylabel(\"Values\")\n",
    "\n",
    "# Histogram (3rd subplot)\n",
    "plt.subplot(1, 3, 3)\n",
    "plt.hist(data_hist, bins=30, edgecolor='black', color='g')\n",
    "plt.title(\"Histogram\")\n",
    "plt.xlabel(\"Value\")\n",
    "plt.ylabel(\"Frequency\")\n",
    "\n",
    "# Adjust layout to avoid overlapping\n",
    "plt.tight_layout()\n",
    "\n",
    "# Show the combined plot\n",
    "plt.show()"
   ]
  },
  {
   "cell_type": "markdown",
   "metadata": {},
   "source": [
    "### Exporting Plots\n",
    "\n",
    "Often you want to save a plot for later. You can just write them to a file like this:"
   ]
  },
  {
   "cell_type": "code",
   "execution_count": 38,
   "metadata": {},
   "outputs": [],
   "source": [
    "x = np.random.rand(50)\n",
    "y = np.random.rand(50)\n",
    "\n",
    "plt.scatter(x, y, color='r')\n",
    "plt.title(\"Scatter Plot of Random Points\")\n",
    "plt.xlabel(\"x\")\n",
    "plt.ylabel(\"y\")\n",
    "plt.savefig(os.path.join(output_data_dir, \"my_plot.png\"))\n",
    "plt.close()"
   ]
  },
  {
   "cell_type": "markdown",
   "metadata": {},
   "source": [
    "## Exercises\n",
    "\n"
   ]
  },
  {
   "cell_type": "markdown",
   "metadata": {},
   "source": [
    "For this you need the \"Titanic\" dataset which contains data about the passengers of the titanic and their survival:"
   ]
  },
  {
   "cell_type": "markdown",
   "metadata": {},
   "source": [
    "1. Load the Titanic dataset and display the first 5 rows. Then, use Pandas to display basic information and summary statistics of the dataset."
   ]
  },
  {
   "cell_type": "code",
   "execution_count": 44,
   "metadata": {},
   "outputs": [],
   "source": [
    "import ssl\n",
    "ssl._create_default_https_context = ssl._create_unverified_context\n",
    "from sklearn.datasets import fetch_openml\n",
    "\n",
    "titanic = fetch_openml(\"titanic\", version=1, as_frame=True)\n",
    "df = titanic.frame\n",
    "df[\"survived\"] = pd.to_numeric(df['survived'], errors='coerce')  # convert this for calculations\n",
    "\n",
    "### Your code here:"
   ]
  },
  {
   "cell_type": "markdown",
   "metadata": {},
   "source": [
    "2. How many passengers survived and how many did not survive? Use Pandas to count the number of survivors and non-survivors (the Survived column)."
   ]
  },
  {
   "cell_type": "code",
   "execution_count": 40,
   "metadata": {},
   "outputs": [],
   "source": [
    "### Your code here:"
   ]
  },
  {
   "cell_type": "markdown",
   "metadata": {},
   "source": [
    "3. What is the average age of the passengers? Use Pandas to calculate the mean age from the Age column. Ignore missing values in the calculation."
   ]
  },
  {
   "cell_type": "code",
   "execution_count": null,
   "metadata": {},
   "outputs": [],
   "source": [
    "### Your code here:"
   ]
  },
  {
   "cell_type": "markdown",
   "metadata": {},
   "source": [
    "4. What was the survival rate for male and female passengers? Use group-by functionality to calculate the survival rate by gender (Sex column)."
   ]
  },
  {
   "cell_type": "code",
   "execution_count": null,
   "metadata": {},
   "outputs": [],
   "source": [
    "### Your code here:"
   ]
  },
  {
   "cell_type": "markdown",
   "metadata": {},
   "source": [
    "5. Create a 4x4 array filled with random values and find the sum of all elements. Use `np.random.rand()` to generate the values."
   ]
  },
  {
   "cell_type": "code",
   "execution_count": null,
   "metadata": {},
   "outputs": [],
   "source": [
    "### Your code here:"
   ]
  },
  {
   "cell_type": "markdown",
   "metadata": {},
   "source": [
    "6. Generate an array with 15 evenly spaced values between 5 and 50. Then, reshape this array into a 3x5 matrix."
   ]
  },
  {
   "cell_type": "code",
   "execution_count": null,
   "metadata": {},
   "outputs": [],
   "source": [
    "### Your code here:"
   ]
  },
  {
   "cell_type": "markdown",
   "metadata": {},
   "source": [
    "7. Given two arrays a and b, perform element-wise subtraction of b from a and print the result."
   ]
  },
  {
   "cell_type": "code",
   "execution_count": 41,
   "metadata": {},
   "outputs": [],
   "source": [
    "a = np.array([10, 20, 30, 40, 50])\n",
    "b = np.array([5, 4, 3, 2, 1])\n",
    "\n",
    "### Your code here:"
   ]
  },
  {
   "cell_type": "markdown",
   "metadata": {},
   "source": [
    "8. Given the following 3x3 matrix, extract the second row and third column element from the matrix and print it."
   ]
  },
  {
   "cell_type": "code",
   "execution_count": 42,
   "metadata": {},
   "outputs": [],
   "source": [
    "matrix = np.array([[1, 2, 3], [4, 5, 6], [7, 8, 9]])"
   ]
  },
  {
   "cell_type": "markdown",
   "metadata": {},
   "source": [
    "9. Plot the following function\n",
    "\n",
    "$$ y = x^{0.65} \\cdot e^{-0.25x} $$\n",
    "\n",
    "and display it with a dashed red line. Hint: use numpy's `power` and `exp` functions to translate it into Python code, and use `np.arange` or `np.linspace` to generate the values for `x`."
   ]
  },
  {
   "cell_type": "code",
   "execution_count": 43,
   "metadata": {},
   "outputs": [],
   "source": [
    "### your code here:\n"
   ]
  }
 ],
 "metadata": {
  "kernelspec": {
   "display_name": "Python 3",
   "language": "python",
   "name": "python3"
  },
  "language_info": {
   "codemirror_mode": {
    "name": "ipython",
    "version": 3
   },
   "file_extension": ".py",
   "mimetype": "text/x-python",
   "name": "python",
   "nbconvert_exporter": "python",
   "pygments_lexer": "ipython3",
   "version": "3.10.13"
  }
 },
 "nbformat": 4,
 "nbformat_minor": 2
}
