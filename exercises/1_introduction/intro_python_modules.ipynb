{
 "cells": [
  {
   "cell_type": "markdown",
   "metadata": {},
   "source": [
    "# Basics for Data Processing in Python "
   ]
  },
  {
   "cell_type": "markdown",
   "metadata": {},
   "source": [
    "## Module Overview\n",
    "\n",
    "### Pandas\n",
    "\n",
    "- creating tabular data, aka \"DataFrames\"\n",
    "- loading data from external sources (text files, databases etc.)\n",
    "- data sorting and selection\n",
    "- creation of derived data\n",
    "- time-series functionality\n",
    "- plausibility checking and imputation\n",
    "\n",
    "### Numpy\n",
    "\n",
    "- fast array and matrix manipulation and operations\n",
    "- linear algebra\n",
    "- applying mathematical functions\n",
    "\n",
    "### Matplotlib\n",
    "\n",
    "- visualization of data and results\n",
    "- highly customizable plots"
   ]
  },
  {
   "cell_type": "code",
   "execution_count": 2,
   "metadata": {},
   "outputs": [],
   "source": [
    "import pandas as pd\n",
    "import numpy as np\n",
    "import matplotlib.pyplot as plt"
   ]
  },
  {
   "cell_type": "markdown",
   "metadata": {},
   "source": [
    "## basic Pandas functionality\n",
    "\n",
    "Pandas works with objects called `DataFrame`. They store data in tabular form (rows and columns).\n",
    "\n",
    "This code loads sample data from a CSV (comma-seperated values) file and displays the first five rows with the `head` function"
   ]
  },
  {
   "cell_type": "code",
   "execution_count": null,
   "metadata": {},
   "outputs": [],
   "source": [
    "data = pd.read_csv(\"../../data/example.csv\", decimal=\".\", sep=\",\", encoding=\"utf-8\")\n",
    "print(data.head(5))"
   ]
  },
  {
   "cell_type": "markdown",
   "metadata": {},
   "source": [
    "It is good practice to get an overview of the data first, to see if they are loaded correctly.\n",
    "\n",
    "For this you can use the `DataFrame.info()` and `DataFrame.describe()` methods:"
   ]
  },
  {
   "cell_type": "code",
   "execution_count": null,
   "metadata": {},
   "outputs": [],
   "source": [
    "print(data.info(verbose=True))\n",
    "print(data.describe())"
   ]
  },
  {
   "cell_type": "markdown",
   "metadata": {},
   "source": [
    "### Selecting subsets of data\n",
    "\n",
    "You can select a specific column of your dataframe with the name of the column header in square brackets: `data[column_name]`. You can also pass a list of column names. If you pass a range of integer values, you get the corresponding rows.\n",
    "\n",
    "Also, the column name can be treated like any other property of a Python object (`data.age` for example), but this won't work if the column name has spaces in it, or any other characters that aren't allowed in variable names. Also, this can be harder to read since it's not directly clear that `age` is a column and not some default property of a DataFrame.\n",
    "\n",
    "Lastly, there is the `DataFrame.loc` property, which we will talk more about later."
   ]
  },
  {
   "cell_type": "code",
   "execution_count": null,
   "metadata": {},
   "outputs": [],
   "source": [
    "age_data = data[\"age\"]\n",
    "# or \n",
    "age_data = data.age\n",
    "# or\n",
    "age_data = data.loc[:,\"age\"]  # loc selects data by [index (=row), column], a colon : will just select everything\n",
    "print(age_data)\n",
    "\n",
    "# multiple columns\n",
    "scores = data[[\"name\", \"score\"]]\n",
    "print(scores)\n",
    "\n",
    "# passing a range accesses matching rows\n",
    "subset = data[0:2]\n",
    "print(subset)"
   ]
  },
  {
   "cell_type": "markdown",
   "metadata": {},
   "source": [
    "### Filtering data\n",
    "\n",
    "Often you need to select data that matches certain criteria. For example, in our data we want only people with a \"score\" of 90 and above. For that you have to specify one or more conditions inside the square brackets. This way, a mask is created (an array of boolean values) that is only true for the rows that meet the criteria."
   ]
  },
  {
   "cell_type": "code",
   "execution_count": null,
   "metadata": {},
   "outputs": [],
   "source": [
    "# get the people with scores >= 90\n",
    "high_scorers = data[data[\"score\"] >= 90]\n",
    "\n",
    "# the expression inside the brackets creates a boolean mask, which is used to select only the cells where the mask is \"True\"\n",
    "mask = data[\"score\"] >= 90\n",
    "print(mask)\n",
    "print(\"\\nscore >= 90\\n\", data[mask])\n",
    "\n",
    "# filtering with multiple conditions\n",
    "height_scorers = data[(data[\"score\"] >= 90) & (data[\"height\"] >= 6.0)]\n",
    "print(\"\\nscore >= 90 and height >= 6\\n\", height_scorers)"
   ]
  },
  {
   "cell_type": "code",
   "execution_count": 6,
   "metadata": {},
   "outputs": [
    {
     "name": "stdout",
     "output_type": "stream",
     "text": [
      "0       John Doe\n",
      "1     Jane Smith\n",
      "2    Bob Johnson\n",
      "Name: name, dtype: object\n",
      "          name  age  height\n",
      "0     John Doe   28     5.9\n",
      "1   Jane Smith   22     5.7\n",
      "2  Bob Johnson   34     6.1\n"
     ]
    }
   ],
   "source": [
    "# selecting rows and columns simultaneously with .loc and .iloc\n",
    "# select data where \"id\" is either 1, 2, or 3, and the column is \"name\"\n",
    "subset = data.loc[data[\"id\"].isin([1, 2, 3]), \"name\"]\n",
    "print(subset)\n",
    "\n",
    "# select data with index from 0 to 2, and columns from 1 to 3\n",
    "subset_2 = data.iloc[0:3, 1:4]\n",
    "print(subset_2)"
   ]
  },
  {
   "cell_type": "markdown",
   "metadata": {},
   "source": [
    "### Adding new data"
   ]
  },
  {
   "cell_type": "code",
   "execution_count": 11,
   "metadata": {},
   "outputs": [
    {
     "name": "stdout",
     "output_type": "stream",
     "text": [
      "   id           name  age  height  score       pet\n",
      "0   1       John Doe   28     5.9   85.3       cat\n",
      "1   2     Jane Smith   22     5.7   92.5       dog\n",
      "2   3    Bob Johnson   34     6.1   78.9       cat\n",
      "3   4    Alice Brown   29     5.5   88.2  goldfish\n",
      "4   5  Charlie Davis   25     6.0   91.4   hamster\n",
      "            name  group\n",
      "0       John Doe      1\n",
      "1    Bob Johnson      1\n",
      "2    Alice Brown      2\n",
      "3  Charlie Davis      2\n",
      "   id           name  age  height  score       pet  group\n",
      "0   1       John Doe   28     5.9   85.3       cat    1.0\n",
      "1   2     Jane Smith   22     5.7   92.5       dog    NaN\n",
      "2   3    Bob Johnson   34     6.1   78.9       cat    1.0\n",
      "3   4    Alice Brown   29     5.5   88.2  goldfish    2.0\n",
      "4   5  Charlie Davis   25     6.0   91.4   hamster    2.0\n"
     ]
    }
   ],
   "source": [
    "# Adding new data to an existing DataFrame\n",
    "# adding a new column from a series\n",
    "pet_data = pd.Series([\"cat\", \"dog\", \"cat\", \"goldfish\", \"hamster\"])\n",
    "\n",
    "data[\"pet\"] = pet_data\n",
    "print(data)\n",
    "\n",
    "# adding data from a dictionary with merge()\n",
    "# missing values get filled with NaN (not a number)\n",
    "group_data = pd.DataFrame.from_dict({\"name\": [\"John Doe\", \"Bob Johnson\", \"Alice Brown\", \"Charlie Davis\"], \"group\": [1, 1, 2, 2]})\n",
    "print(group_data)\n",
    "merged_data = data.merge(group_data, how=\"left\")\n",
    "print(merged_data)"
   ]
  },
  {
   "cell_type": "code",
   "execution_count": 18,
   "metadata": {},
   "outputs": [
    {
     "name": "stdout",
     "output_type": "stream",
     "text": [
      "            name  score_age_ratio\n",
      "0       John Doe         3.046429\n",
      "1     Jane Smith         4.204545\n",
      "2    Bob Johnson         2.320588\n",
      "3    Alice Brown         3.041379\n",
      "4  Charlie Davis         3.656000\n",
      "0       John\n",
      "1       Jane\n",
      "2        Bob\n",
      "3      Alice\n",
      "4    Charlie\n",
      "Name: first_name, dtype: object\n",
      "0        Doe\n",
      "1      Smith\n",
      "2    Johnson\n",
      "3      Brown\n",
      "4      Davis\n",
      "Name: last_name, dtype: object\n"
     ]
    }
   ],
   "source": [
    "# creating new columns from existing ones\n",
    "\n",
    "# calculating the score to age ratio\n",
    "data[\"score_age_ratio\"] = data[\"score\"] / data[\"age\"]\n",
    "print(data[[\"name\", \"score_age_ratio\"]])\n",
    "\n",
    "# applying a function to a column\n",
    "def get_first_name(full_name):\n",
    "    return full_name.split(\" \")[0]\n",
    "\n",
    "data[\"first_name\"] = data[\"name\"].apply(get_first_name)\n",
    "print(data[\"first_name\"])\n",
    "\n",
    "# you can also pass an anonymous function. less code, but sometimes harder to read\n",
    "data[\"last_name\"] = data[\"name\"].apply(lambda x: x.split(\" \")[-1])\n",
    "print(data[\"last_name\"])"
   ]
  }
 ],
 "metadata": {
  "kernelspec": {
   "display_name": "exercises_summer_school",
   "language": "python",
   "name": "python3"
  },
  "language_info": {
   "codemirror_mode": {
    "name": "ipython",
    "version": 3
   },
   "file_extension": ".py",
   "mimetype": "text/x-python",
   "name": "python",
   "nbconvert_exporter": "python",
   "pygments_lexer": "ipython3",
   "version": "3.10.14"
  }
 },
 "nbformat": 4,
 "nbformat_minor": 2
}
