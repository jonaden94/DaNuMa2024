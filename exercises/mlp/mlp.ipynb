{
 "cells": [
  {
   "cell_type": "code",
   "execution_count": 13,
   "metadata": {},
   "outputs": [],
   "source": [
    "import pandas as pd\n",
    "import matplotlib.pyplot as plt\n",
    "\n",
    "import torch\n",
    "from torch.utils.data import Dataset, DataLoader\n",
    "from torch.optim import AdamW\n",
    "from torch import nn\n",
    "from torch.nn import functional as nnf\n",
    "from tqdm import tqdm\n",
    "from sklearn.model_selection import train_test_split\n",
    "import itertools\n",
    "from collections import defaultdict\n",
    "import numpy as np"
   ]
  },
  {
   "cell_type": "code",
   "execution_count": 14,
   "metadata": {},
   "outputs": [],
   "source": [
    "# data = pd.read_csv('mlp.csv')\n",
    "# # data = data.sample(300, random_state=1)\n",
    "# x = data['x'].to_numpy()\n",
    "# y = data['y'].to_numpy()\n",
    "\n",
    "# x_train, x_val, y_train, y_val = train_test_split(x, y, train_size=0.8, random_state=1)"
   ]
  },
  {
   "cell_type": "code",
   "execution_count": 15,
   "metadata": {},
   "outputs": [],
   "source": [
    "# data gen params\n",
    "N = 128\n",
    "var = 1\n",
    "start = 0.01\n",
    "end = 15\n",
    "split = 0.5\n",
    "seed = 42\n",
    "np.random.seed(seed)\n",
    "def f_x(x):\n",
    "    return np.sin(x) + np.log(x)\n",
    "\n",
    "# data\n",
    "x = np.linspace(start, end, N)\n",
    "y = f_x(x)\n",
    "noise = np.random.normal(0, var,N)\n",
    "y = y + noise\n",
    "x_train, x_val, y_train, y_val = train_test_split(x, y, train_size=split, random_state=seed)\n",
    "\n"
   ]
  },
  {
   "cell_type": "code",
   "execution_count": 16,
   "metadata": {},
   "outputs": [
    {
     "data": {
      "text/plain": [
       "[<matplotlib.lines.Line2D at 0x7f545aa988b0>]"
      ]
     },
     "execution_count": 16,
     "metadata": {},
     "output_type": "execute_result"
    },
    {
     "data": {
      "image/png": "[encoded data removed]",
      "text/plain": [
       "<Figure size 640x480 with 1 Axes>"
      ]
     },
     "metadata": {},
     "output_type": "display_data"
    }
   ],
   "source": [
    "plt.scatter(x_train, y_train)\n",
    "plt.scatter(x_val, y_val, c='red')\n",
    "x_gt = np.linspace(start, end, 1000)\n",
    "y_gt = f_x(x_gt)\n",
    "plt.plot(x_gt, y_gt, color='green')"
   ]
  },
  {
   "cell_type": "code",
   "execution_count": 17,
   "metadata": {},
   "outputs": [],
   "source": [
    "class ToyDataset(Dataset):\n",
    "    def __init__(self, x, y):\n",
    "        self.x = torch.from_numpy(x)\n",
    "        self.y = torch.from_numpy(y)\n",
    "\n",
    "    def __len__(self):\n",
    "        return len(self.x)\n",
    "    \n",
    "    def __getitem__(self, index):\n",
    "        return self.x[index], self.y[index]"
   ]
  },
  {
   "cell_type": "code",
   "execution_count": 18,
   "metadata": {},
   "outputs": [],
   "source": [
    "# class MLP(nn.Module):\n",
    "#     def __init__(self):\n",
    "#         super().__init__()\n",
    "#         self.linear1 = nn.Linear(1, 28)\n",
    "#         self.linear2 = nn.Linear(1, 56)\n",
    "#         self.linear2 = nn.Linear(1, 56)\n",
    "\n",
    "# [64, 128, 256, 512, 256, 128, 64]\n",
    "\n",
    "\n",
    "#     def forward(self, x):\n",
    "#         return self.layers(x)"
   ]
  },
  {
   "cell_type": "code",
   "execution_count": 19,
   "metadata": {},
   "outputs": [],
   "source": [
    "class MLP(nn.Module):\n",
    "    def __init__(self, layer_sizes, dropout_ratio=0.1):\n",
    "        super().__init__()\n",
    "\n",
    "        modules = []\n",
    "        for i in range(len(layer_sizes)-1):\n",
    "            modules.append(nn.Linear(layer_sizes[i], layer_sizes[i+1]))\n",
    "\n",
    "            if not i == len(layer_sizes)-2:\n",
    "                modules.append(nn.ReLU())\n",
    "                modules.append(nn.Dropout(dropout_ratio))\n",
    "\n",
    "        self.layers = nn.Sequential(*modules)\n",
    "\n",
    "\n",
    "    def forward(self, x):\n",
    "        return self.layers(x)"
   ]
  },
  {
   "cell_type": "code",
   "execution_count": 33,
   "metadata": {},
   "outputs": [],
   "source": [
    "def train(model, trainloader, valloader, optimizer, epochs, device, savepath_best_statedict=None):\n",
    "    train_losses = []\n",
    "    val_losses = []\n",
    "    min_val_loss = float('inf')\n",
    "    model.train()\n",
    "\n",
    "    for _ in tqdm(range(epochs)):\n",
    "        train_loss = train_one_epoch(model, trainloader, optimizer, device)\n",
    "        train_losses.append(train_loss)\n",
    "\n",
    "        val_loss = validate(model, valloader, device)\n",
    "        val_losses.append(val_loss)\n",
    "\n",
    "        if savepath_best_statedict is not None:\n",
    "            if val_loss < min_val_loss:\n",
    "                torch.save(model.state_dict(), savepath_best_statedict)\n",
    "                min_val_loss = val_loss\n",
    "    return train_losses, val_losses\n",
    "\n",
    "def train_one_epoch(model, trainloader, optimizer, device):\n",
    "    model.train()\n",
    "    total_loss = 0\n",
    "    for x_batch, y_batch in trainloader:\n",
    "        x_batch = x_batch[:, None].float().to(device)\n",
    "        y_batch = y_batch[:, None].float().to(device)\n",
    "        y_pred = model(x_batch)\n",
    "\n",
    "        optimizer.zero_grad()\n",
    "        loss = nnf.mse_loss(y_pred, y_batch)\n",
    "        loss.backward()\n",
    "        optimizer.step()\n",
    "        total_loss += loss.item()\n",
    "    return total_loss / len(trainloader)\n",
    "\n",
    "def validate(model, valloader, device):\n",
    "    model.eval()\n",
    "    total_loss = 0\n",
    "    with torch.no_grad():\n",
    "        for x_batch, y_batch in valloader:\n",
    "            x_batch = x_batch[:, None].float().to(device)\n",
    "            y_batch = y_batch[:, None].float().to(device)\n",
    "            y_pred = model(x_batch)\n",
    "            loss = nnf.mse_loss(y_pred, y_batch)\n",
    "            total_loss += loss.item()\n",
    "    return total_loss / len(valloader)"
   ]
  },
  {
   "cell_type": "code",
   "execution_count": 293,
   "metadata": {},
   "outputs": [],
   "source": [
    "# dropout_ratio = 0.5\n",
    "# base_layer_sizes = [64, 128, 256, 128, 64]\n",
    "# multiplier = 1\n",
    "# layer_sizes = [1] + [multiplier * layer_size for layer_size in base_layer_sizes] + [1]\n",
    "# model = MLP(layer_sizes=layer_sizes, dropout_ratio=dropout_ratio).to(device)"
   ]
  },
  {
   "cell_type": "code",
   "execution_count": 24,
   "metadata": {},
   "outputs": [],
   "source": [
    "trainset = ToyDataset(x_train, y_train)\n",
    "valset = ToyDataset(x_val, y_val)\n",
    "trainloader = DataLoader(trainset, batch_size=int(N/2), shuffle=True)\n",
    "valloader = DataLoader(valset, batch_size=int(N/2), shuffle=False)"
   ]
  },
  {
   "cell_type": "code",
   "execution_count": null,
   "metadata": {},
   "outputs": [],
   "source": [
    "# check if cuda is available\n",
    "device = torch.device('cuda' if torch.cuda.is_available() else 'cpu')\n",
    "print(f\"The model is running on {device}.\")\n",
    "epochs = 5000\n",
    "lr = 0.01\n",
    "experimental_results = defaultdict(list)\n",
    "\n",
    "# hyperparameters to vary\n",
    "dropout_ratios = [0, 0.1, 0.3, 0.6]\n",
    "weight_decays = [0, 0.1, 0.01, 0.001]\n",
    "hidden_layer_sizes = [[64, 128, 256, 128, 64],\n",
    "               [28, 56, 112, 56, 28],\n",
    "               [14, 28, 56, 28, 14],]\n",
    "parameter_combinations = itertools.product(dropout_ratios, weight_decays, hidden_layer_sizes)\n",
    "\n",
    "for combination in tqdm(parameter_combinations):\n",
    "    dropout_ratio = combination[0]\n",
    "    weight_decay = combination[1]\n",
    "    layer_sizes = combination[2]\n",
    "    experimental_results['dropout_ratio'].append(dropout_ratio)\n",
    "    experimental_results['weight_decay'].append(weight_decay)\n",
    "    experimental_results['layer_sizes'].append(layer_sizes)\n",
    "\n",
    "    layer_sizes = [1] + layer_sizes + [1]\n",
    "    model = MLP(layer_sizes=layer_sizes, dropout_ratio=dropout_ratio).to(device)\n",
    "    optimizer = AdamW(model.parameters(), lr=lr, weight_decay=weight_decay)\n",
    "\n",
    "    train_losses, val_losses = train(model, trainloader, valloader, optimizer, epochs, device)\n",
    "    experimental_results['min_val_loss'].append(np.min(val_losses))\n",
    "\n",
    "    experimental_results_df = pd.DataFrame.from_dict(experimental_results)\n",
    "    experimental_results_df.to_pickle('/usr/users/henrich1/repos/exercises_summer_school/exercises/mlp/experimental_results.pkl')\n"
   ]
  },
  {
   "cell_type": "code",
   "execution_count": null,
   "metadata": {},
   "outputs": [],
   "source": [
    "plt.scatter(x_train, y_train)\n",
    "\n",
    "x_seq = torch.linspace(start, end, 1000)[:, None].to(device)\n",
    "model.eval()\n",
    "with torch.no_grad():\n",
    "    y_seq = model(x_seq)\n",
    "plt.plot(x_seq.cpu(), y_seq.cpu(), c='r')"
   ]
  },
  {
   "cell_type": "code",
   "execution_count": 12,
   "metadata": {},
   "outputs": [
    {
     "data": {
      "text/plain": [
       "dropout_ratio                      0.0\n",
       "weight_decay                     0.001\n",
       "layer_sizes      [28, 56, 112, 56, 28]\n",
       "min_val_loss                  1.216197\n",
       "Name: 10, dtype: object"
      ]
     },
     "execution_count": 12,
     "metadata": {},
     "output_type": "execute_result"
    }
   ],
   "source": [
    "test = pd.read_pickle('/usr/users/henrich1/repos/exercises_summer_school/exercises/mlp/experimental_results.pkl')\n",
    "test.iloc[test['min_val_loss'].argmin(), :]"
   ]
  },
  {
   "cell_type": "markdown",
   "metadata": {},
   "source": [
    "# train best model"
   ]
  },
  {
   "cell_type": "code",
   "execution_count": 34,
   "metadata": {},
   "outputs": [
    {
     "name": "stdout",
     "output_type": "stream",
     "text": [
      "The model is running on cuda.\n"
     ]
    },
    {
     "name": "stderr",
     "output_type": "stream",
     "text": [
      "  0%|          | 0/5000 [00:00<?, ?it/s]"
     ]
    },
    {
     "name": "stderr",
     "output_type": "stream",
     "text": [
      "100%|██████████| 5000/5000 [00:20<00:00, 241.88it/s]\n"
     ]
    }
   ],
   "source": [
    "# check if cuda is available\n",
    "device = torch.device('cuda' if torch.cuda.is_available() else 'cpu')\n",
    "print(f\"The model is running on {device}.\")\n",
    "epochs = 5000\n",
    "lr = 0.01\n",
    "experimental_results = defaultdict(list)\n",
    "\n",
    "# hyperparameters to vary\n",
    "dropout_ratio = 0\n",
    "weight_decay = 0.001\n",
    "layer_sizes = [28, 56, 112, 56, 28]\n",
    "layer_sizes = [1] + layer_sizes + [1]\n",
    "\n",
    "model = MLP(layer_sizes=layer_sizes, dropout_ratio=dropout_ratio).to(device)\n",
    "optimizer = AdamW(model.parameters(), lr=lr, weight_decay=weight_decay)\n",
    "train_losses, val_losses = train(model, trainloader, valloader, optimizer, epochs, device, savepath_best_statedict='/usr/users/henrich1/repos/exercises_summer_school/exercises/mlp/best_model.pth')"
   ]
  },
  {
   "cell_type": "code",
   "execution_count": 36,
   "metadata": {},
   "outputs": [
    {
     "data": {
      "text/plain": [
       "[<matplotlib.lines.Line2D at 0x7f5450137730>]"
      ]
     },
     "execution_count": 36,
     "metadata": {},
     "output_type": "execute_result"
    },
    {
     "data": {
      "image/png": "[encoded data removed]",
      "text/plain": [
       "<Figure size 640x480 with 1 Axes>"
      ]
     },
     "metadata": {},
     "output_type": "display_data"
    }
   ],
   "source": [
    "plt.scatter(x_train, y_train)\n",
    "\n",
    "x_seq = torch.linspace(start, end, 1000)[:, None].to(device)\n",
    "model.load_state_dict(torch.load('/usr/users/henrich1/repos/exercises_summer_school/exercises/mlp/best_model.pth'))\n",
    "model.eval()\n",
    "with torch.no_grad():\n",
    "    y_seq = model(x_seq)\n",
    "plt.plot(x_seq.cpu(), y_seq.cpu(), c='r')"
   ]
  }
 ],
 "metadata": {
  "kernelspec": {
   "display_name": "exenv",
   "language": "python",
   "name": "python3"
  },
  "language_info": {
   "codemirror_mode": {
    "name": "ipython",
    "version": 3
   },
   "file_extension": ".py",
   "mimetype": "text/x-python",
   "name": "python",
   "nbconvert_exporter": "python",
   "pygments_lexer": "ipython3",
   "version": "3.10.12"
  }
 },
 "nbformat": 4,
 "nbformat_minor": 2
}
